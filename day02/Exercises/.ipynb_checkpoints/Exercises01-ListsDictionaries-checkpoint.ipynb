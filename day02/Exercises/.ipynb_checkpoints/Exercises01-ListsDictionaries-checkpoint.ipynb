{
 "cells": [
  {
   "cell_type": "markdown",
   "metadata": {},
   "source": [
    "## Exercise 1"
   ]
  },
  {
   "cell_type": "raw",
   "metadata": {},
   "source": [
    "Given the following dictionary:\n",
    "\n",
    "inventory = {\n",
    "    'gold' : 500,\n",
    "    'pouch' : ['flint', 'twine', 'gemstone'],\n",
    "    'backpack' : ['xylophone','dagger', 'bedroll','bread loaf']\n",
    "}\n",
    "\n",
    "Try to do the following:\n",
    "\n",
    "Add a key to inventory called 'pocket'.\n",
    "Set the value of 'pocket' to be a list consisting of the strings 'seashell', 'strange berry', and 'lint'.\n",
    ".sort()the items in the list stored under the 'backpack' key.\n",
    "Then .remove('dagger') from the list of items stored under the 'backpack' key.\n",
    "Add 50 to the number stored under the 'gold' key."
   ]
  },
  {
   "cell_type": "markdown",
   "metadata": {},
   "source": [
    "## Exercise 2"
   ]
  },
  {
   "cell_type": "raw",
   "metadata": {},
   "source": [
    "Folow the steps bellow: -Create a new dictionary called prices using {} format like the example above.\n",
    "\n",
    "Put these values in your prices dictionary:\n",
    "\"banana\": 4,\n",
    "\"apple\": 2,\n",
    "\"orange\": 1.5,\n",
    "\"pear\": 3\n",
    "Loop through each key in prices. For each key, print out the key along with its price and stock information. Print the answer in the following format:\n",
    "apple\n",
    "price: 2\n",
    "stock: 0\n",
    "Let's determine how much money you would make if you sold all of your food.\n",
    "\n",
    "Create a variable called total and set it to zero.\n",
    "Loop through the prices dictionaries.For each key in prices, multiply the number in prices by the number in stock. Print that value into the console and then add it to total.\n",
    "Finally, outside your loop, print total."
   ]
  }
 ],
 "metadata": {
  "kernelspec": {
   "display_name": "Python 2",
   "language": "python",
   "name": "python2"
  },
  "language_info": {
   "codemirror_mode": {
    "name": "ipython",
    "version": 2
   },
   "file_extension": ".py",
   "mimetype": "text/x-python",
   "name": "python",
   "nbconvert_exporter": "python",
   "pygments_lexer": "ipython2",
   "version": "2.7.12"
  }
 },
 "nbformat": 4,
 "nbformat_minor": 2
}
