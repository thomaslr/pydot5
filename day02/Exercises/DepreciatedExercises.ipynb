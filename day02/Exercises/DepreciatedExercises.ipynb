{
 "cells": [
  {
   "cell_type": "markdown",
   "metadata": {},
   "source": [
    "# Conditions"
   ]
  },
  {
   "cell_type": "markdown",
   "metadata": {},
   "source": [
    "## IF statements"
   ]
  },
  {
   "cell_type": "markdown",
   "metadata": {},
   "source": [
    "Execute a block of code **IF** a condition is True.\n",
    "\n",
    "*Example*\n",
    "```python\n",
    "if n > 5:\n",
    "    print(\"I'm greater than 5 :)\")\n",
    "```\n",
    "\n",
    "**Exercise**\n",
    "- Declare a new variable \"destination\" and assign it the value of \"NRT\"\n",
    "- Write an If statement to print \"Your destination is Tokyo Narita Airport.\" if destination is \"NRT\"\n"
   ]
  },
  {
   "cell_type": "code",
   "execution_count": 1,
   "metadata": {
    "collapsed": true
   },
   "outputs": [],
   "source": [
    "# write your code below this line"
   ]
  },
  {
   "cell_type": "markdown",
   "metadata": {},
   "source": [
    "### IF - ELSE statements\n",
    "\n",
    "*Example*\n",
    "```python\n",
    "if n > 5:\n",
    "    print(\"I'm greater than 5 :)\")\n",
    "else: # no conditions stated for the else statememt\n",
    "    print(\"I'm smaller than 5 :(\")\n",
    "```\n",
    "\n",
    "**Exercise**\n",
    "- Declare a new variable \"destination\" and assign it the value of \"SIN\"\n",
    "- Write an If statement to print \"Your destination is Tokyo Narita Airport.\" if destination is \"NRT\"\n",
    "- Write an Else statement to print \"Sorry, we do not fly to your intended destination currently.\"\n"
   ]
  },
  {
   "cell_type": "code",
   "execution_count": 2,
   "metadata": {
    "collapsed": true
   },
   "outputs": [],
   "source": [
    "# write your code below this line"
   ]
  },
  {
   "cell_type": "markdown",
   "metadata": {},
   "source": [
    "### IF-ELIF-ELSE statements\n",
    "\n",
    "*Example*\n",
    "```python\n",
    "if n > 5:\n",
    "    print(\"I'm greater than 5 :)\")\n",
    "elif n > 5:\n",
    "    print(\"I'm 5!\")\n",
    "else:\n",
    "    print(\"I'm smaller than 5 :(\")\n",
    "```\n",
    "**Exercise**\n",
    "- Declare a new variable \"destination\" and assign it the value of \"SIN\"\n",
    "- Write an If statement to print \"Please enter the correct airport code\" if len(destination) is more than or less than 3\n",
    "- Write an Elif statement to print \"Your destination is Tokyo Narita Airport.\" if destination is \"NRT\"\n",
    "- Write an Else statement to print \"Sorry, we do not fly to your intended destination currently.\""
   ]
  },
  {
   "cell_type": "code",
   "execution_count": 3,
   "metadata": {
    "collapsed": true
   },
   "outputs": [],
   "source": [
    "# write your code below this line"
   ]
  },
  {
   "cell_type": "markdown",
   "metadata": {},
   "source": [
    "## FUNCTIONS\n",
    "Functions are reusable blocks of code."
   ]
  },
  {
   "cell_type": "markdown",
   "metadata": {},
   "source": [
    "### With Return Values\n",
    "\n",
    "*Example*\n",
    "```python\n",
    "def function_with_return (input1, input2):\n",
    "    #block of reusable code\n",
    "    return input1 + input2\n",
    "```\n",
    "This function takes in two inputs and returns the sum of the two inputs.\n",
    "\n",
    "**Exercise**\n",
    "- Write a new function \"search_flights\" which takes in one input called \"destination\"\n",
    "- Inside the function:\n",
    "- 1. Write an If statement to return \"Please enter the correct airport code\" if len(destination) is more than or less than 3\n",
    " 2. Write an Elif statement to return \"Your destination is Tokyo Narita Airport.\" if destination is \"NRT\"\n",
    " 3. Write an Else statement to return \"Sorry, we do not fly to your intended destination currently.\"\n",
    "- Declare a new variable \"search_results\" and assign to it \"search_flight(\"desination_input\")\" \n",
    "- Print out \"search_results\""
   ]
  },
  {
   "cell_type": "code",
   "execution_count": 1,
   "metadata": {},
   "outputs": [
    {
     "name": "stdout",
     "output_type": "stream",
     "text": [
      "Enter your name: NRT\n"
     ]
    }
   ],
   "source": [
    "destination = raw_input('Enter your name: ')\n",
    "print destination\n",
    "# write your code below this line\n"
   ]
  },
  {
   "cell_type": "markdown",
   "metadata": {},
   "source": [
    "### Without Return Values\n",
    "*Example*\n",
    "```python\n",
    "def function_without_return (input1, input2):\n",
    "    #block of reusable code\n",
    "    print(\"Your params are \", input1, input2)\n",
    "```\n",
    "This function takes in two inputs and only prints out the inputs. There is no return value.\n",
    "\n",
    "**Exercise**\n",
    "- Write a new function \"search_flights\" which takes in one input called \"input1\"\n",
    "- Inside the function:\n",
    "- 1. Write an If statement to print \"Please enter the correct airport code\" if len(destination) is more than or less than 3\n",
    " 2. Write an Elif statement to print \"Your destination is Tokyo Narita Airport.\" if destination is \"NRT\"\n",
    " 3. Write an Else statement to print \"Sorry, we do not fly to your intended destination currently.\"\n",
    "- Call the function using \"search_flights(destination)\""
   ]
  },
  {
   "cell_type": "code",
   "execution_count": null,
   "metadata": {
    "collapsed": true
   },
   "outputs": [],
   "source": [
    "destination = input('Enter your name: ')\n",
    "# write your code below this line"
   ]
  },
  {
   "cell_type": "markdown",
   "metadata": {
    "collapsed": true
   },
   "source": [
    "## LISTS"
   ]
  },
  {
   "cell_type": "markdown",
   "metadata": {},
   "source": [
    "List is a type of data in Python. Lists are encapsulated in square brackets ( [ and ] )."
   ]
  },
  {
   "cell_type": "markdown",
   "metadata": {},
   "source": [
    "### Zero Indexing\n",
    "\n",
    "*Example*\n",
    "```python\n",
    "list_of_airports = [\"Suvarnabhumi\", \"Narita\", \"Ngurah Rai\", \"Incheon\"]\n",
    "print(list_of_airports[0])\n",
    "```\n",
    "**Exercise**\n",
    "- Print out second item in \"list_of_airports\""
   ]
  },
  {
   "cell_type": "code",
   "execution_count": null,
   "metadata": {
    "collapsed": true
   },
   "outputs": [],
   "source": [
    "# write your code below this line"
   ]
  },
  {
   "cell_type": "markdown",
   "metadata": {},
   "source": [
    "### Negative Indexing\n",
    "*Example*\n",
    "```python\n",
    "list_of_airports = [\"Suvarnabhumi\", \"Narita\", \"Ngurah Rai\", \"Incheon\"]\n",
    "print(list_of_airports[-1])\n",
    "```\n",
    "\n",
    "**Exercise**\n",
    "- Print out the second last item in \"list_of_airports\""
   ]
  },
  {
   "cell_type": "code",
   "execution_count": null,
   "metadata": {
    "collapsed": true
   },
   "outputs": [],
   "source": [
    "# write your code below this line"
   ]
  },
  {
   "cell_type": "markdown",
   "metadata": {},
   "source": [
    "### Splicing \n",
    "*Example*\n",
    "```python\n",
    "list_of_airports = [\"Suvarnabhumi\", \"Narita\", \"Ngurah Rai\", \"Incheon\"]\n",
    "print(list_of_airports[1:3])\n",
    "```\n",
    "\n",
    "**Exercise**\n",
    "- Print out the first and second item in \"list_of_airports\""
   ]
  },
  {
   "cell_type": "code",
   "execution_count": null,
   "metadata": {
    "collapsed": true
   },
   "outputs": [],
   "source": [
    "# write your code below this line"
   ]
  },
  {
   "cell_type": "markdown",
   "metadata": {},
   "source": [
    "### Length\n",
    "Use the len() method to find out the length of the list.\n",
    "\n",
    "Bonus: the len() method also works for String.\n",
    "\n",
    "*Example*\n",
    "```python\n",
    "list_of_airports = [\"Suvarnabhumi\", \"Narita\", \"Ngurah Rai\", \"Incheon\"]\n",
    "print(len(list_of_airports))\n",
    "```\n",
    "\n",
    "**Exercise**\n",
    "- Print out the length of \"list_of_airport\""
   ]
  },
  {
   "cell_type": "code",
   "execution_count": 1,
   "metadata": {
    "collapsed": true
   },
   "outputs": [],
   "source": [
    "# write your code below this line"
   ]
  },
  {
   "cell_type": "markdown",
   "metadata": {},
   "source": [
    "### Adding to End of List \n",
    "Use the append() method to add an item to the end of the list\n",
    "\n",
    "*Example*\n",
    "```python\n",
    "list_of_airports = [\"Suvarnabhumi\", \"Narita\", \"Ngurah Rai\", \"Incheon\"]\n",
    "list_of_airports.append(\"Ho Chi Minh City\")\n",
    "print(list_of_airports)\n",
    "```\n",
    "\n",
    "**Exercise**\n",
    "- Add \"New Delhi\" to \"list_of_airports\"\n"
   ]
  },
  {
   "cell_type": "code",
   "execution_count": null,
   "metadata": {
    "collapsed": true
   },
   "outputs": [],
   "source": [
    "# write your code below this line"
   ]
  },
  {
   "cell_type": "markdown",
   "metadata": {},
   "source": [
    "### Adding to Any Position in List\n",
    "Use the insert() method to add an item into the list at any position.\n",
    "Note: remember that lists in Python are zero-indexed\n",
    "\n",
    "*Example*\n",
    "```python\n",
    "list_of_airports = [\"Suvarnabhumi\", \"Narita\", \"Ngurah Rai\", \"Incheon\", \"New Delhi\"]\n",
    "list_of_airports.insert(2, \"Ho Chi Minh City\")\n",
    "#this will insert \"Ho Chi Minh City\" as the third item and push \"Ngurah Rai\" and \"Incheon\" to 4th and 5th respectively\n",
    "print(list_of_airports)\n",
    "```\n",
    "\n",
    "**Exercise**\n",
    "- Insert \"Pudong\" into \"list_of_airports\" at the 4th position"
   ]
  },
  {
   "cell_type": "code",
   "execution_count": 9,
   "metadata": {
    "collapsed": true
   },
   "outputs": [],
   "source": [
    "# write your code below this line\n"
   ]
  },
  {
   "cell_type": "markdown",
   "metadata": {},
   "source": [
    "### Deleting Based on Index\n",
    "Use del to delete an item in a list based on index\n",
    "\n",
    "*Example*\n",
    "```python\n",
    "list_of_airports = [\"Suvarnabhumi\", \"Narita\", \"Ngurah Rai\", \"Pudong\", \"Ho Chi Minh City\", \"Incheon\", \"New Delhi\"]\n",
    "del list_of_airports[4] # this will remove the 5th item in the list - \"Ho Chi Minh City\"\n",
    "print(list_of_airports)\n",
    "```\n",
    "\n",
    "**Exercise**\n",
    "- Delete \"Incheon\" from \"list_of_airports\"\n"
   ]
  },
  {
   "cell_type": "code",
   "execution_count": 8,
   "metadata": {
    "collapsed": true
   },
   "outputs": [],
   "source": [
    "# write your code below this line\n"
   ]
  },
  {
   "cell_type": "markdown",
   "metadata": {},
   "source": [
    "### Removing Based on Value\n",
    "Use the remove() to remove an item in a list based on value\n",
    "\n",
    "*Example*\n",
    "```python\n",
    "list_of_airports = [\"Suvarnabhumi\", \"Narita\", \"Ngurah Rai\", \"Pudong\", \"Ho Chi Minh City\", \"New Delhi\",\"Narita\"]\n",
    "list_of_airports.remove(\"Narita\") # this will remove the first instance of \"Narita\" from the list\n",
    "print(list_of_airports)\n",
    "```\n",
    "\n",
    "**Exercise** \n",
    "- Remove \"Ngurah Rai\" from \"list_of_airports\""
   ]
  },
  {
   "cell_type": "code",
   "execution_count": 10,
   "metadata": {
    "collapsed": true
   },
   "outputs": [],
   "source": [
    "# write your code below this line"
   ]
  },
  {
   "cell_type": "markdown",
   "metadata": {},
   "source": [
    "## TUPLE\n",
    "A tuple is a type of list that is fixed and cannot be changed. The syntax for tuples consists of round brackets instead of square brackets.\n",
    "\n",
    "*Example*\n",
    "```python\n",
    "airport_tuple = (\"Suvarnabhumi\", \"Narita\", \"Ngurah Rai\", \"Pudong\", \"Ho Chi Minh City\", \"New Delhi\",\"Narita\")\n",
    "airport_tuple[0] = \"Changi\" # will give you an error as tuples are immutable \n",
    "```\n",
    "\n",
    "**Exercise**\n",
    "- Declare a new tuple \"crew_manifest\" and assign it the values \"John\", \"Sally\", \"Ee Ching\""
   ]
  },
  {
   "cell_type": "code",
   "execution_count": 4,
   "metadata": {},
   "outputs": [
    {
     "ename": "TypeError",
     "evalue": "'tuple' object does not support item assignment",
     "output_type": "error",
     "traceback": [
      "\u001b[0;31m\u001b[0m",
      "\u001b[0;31mTypeError\u001b[0mTraceback (most recent call last)",
      "\u001b[0;32m<ipython-input-4-e1a06119d07b>\u001b[0m in \u001b[0;36m<module>\u001b[0;34m()\u001b[0m\n\u001b[1;32m      2\u001b[0m \u001b[0mcrew_manifest\u001b[0m \u001b[0;34m=\u001b[0m \u001b[0;34m(\u001b[0m\u001b[0;34m\"John\"\u001b[0m\u001b[0;34m,\u001b[0m \u001b[0;34m\"Sally\"\u001b[0m\u001b[0;34m,\u001b[0m \u001b[0;34m\"Ee Ching\"\u001b[0m\u001b[0;34m)\u001b[0m\u001b[0;34m\u001b[0m\u001b[0m\n\u001b[1;32m      3\u001b[0m \u001b[0;34m\u001b[0m\u001b[0m\n\u001b[0;32m----> 4\u001b[0;31m \u001b[0mcrew_manifest\u001b[0m\u001b[0;34m[\u001b[0m\u001b[0;36m1\u001b[0m\u001b[0;34m]\u001b[0m \u001b[0;34m=\u001b[0m \u001b[0;34m\"dasdsa\"\u001b[0m\u001b[0;34m\u001b[0m\u001b[0m\n\u001b[0m",
      "\u001b[0;31mTypeError\u001b[0m: 'tuple' object does not support item assignment"
     ]
    }
   ],
   "source": [
    "# write your code below this line\n",
    "crew_manifest = (\"John\", \"Sally\", \"Ee Ching\")\n",
    "\n",
    "crew_manifest[1] = \"dasdsa\""
   ]
  },
  {
   "cell_type": "markdown",
   "metadata": {},
   "source": [
    "# LOOPS"
   ]
  },
  {
   "cell_type": "markdown",
   "metadata": {},
   "source": [
    "## While Loop\n",
    "A While Loop is used to repeat a block of code as long as the condition evaluates to true.\n",
    "*Example*\n",
    "```python\n",
    "bookings = [\"John\", \"Julia\", \"Jayden\", \"Jennifer\", \"Jamie\"]\n",
    "seat_vacancies = 3\n",
    "passenger_list = [\"Jean\", \"Jack\", \"Jerome\"]\n",
    "i = 0\n",
    "while (seat_vacancies > 0):\n",
    "    print(\"Hi \" + bookings[i] + \". Your booking is successful\")\n",
    "    i+=1 \n",
    "    seat_vacancies-=1# VERY IMPORTANT. PREVENT INFINITE LOOP\n",
    "```\n",
    "\n",
    "**Example**\n",
    "- declare a new list \"crew_available\" and assign it the values \"Chandra\", \"Sally\", \"Fatima\", \"Ee Ching\"\n",
    "- declare a new variable \"crew_needed\" and assign it the value 3\n",
    "- declare a new list \"crew_manifest\" and assign it the values \"Cindy\", \"Luke\"\n",
    "\n",
    "\n",
    "- write a while loop:\n",
    "- - that checks the condition (crew_needed > 0) \n",
    "- - adds a crew member from \"crew_available\" list to \"crew_manifest\" list\n",
    "- - removes the added crew to \"crew_manifest\" from \"crew_available\"\n",
    "- - decrement \"crew_needed\" by 1 everything a crew member is added to \"crew_manifest\"\n",
    "- - print(\"%s is scheduled for the flight\", crew_manifest[-1])"
   ]
  },
  {
   "cell_type": "code",
   "execution_count": 5,
   "metadata": {
    "collapsed": true
   },
   "outputs": [],
   "source": [
    "# write your code below this line"
   ]
  },
  {
   "cell_type": "markdown",
   "metadata": {},
   "source": [
    "### For Loop\n",
    "A For Loop is used to repeat through each item in a list\n",
    "\n",
    "*Example*\n",
    "```python \n",
    "passenger_list = [\"John\", \"Julia\", \"Jayden\", \"Jennifer\", \"Jamie\", \"Jean\", \"Jack\", \"Jerome\"]\n",
    "for local_variable in passenger_list:\n",
    "    print(\"Welcome onboard, %s\" %local_variable)\n",
    "```\n",
    "\n",
    "**Exercise**\n",
    "- Declare a new variable \"passenger_check_in\" and assign it the value 0\n",
    "- Declare a new list \"passenger_list\" and assign it the values \"John\", \"Julia\", \"Jayden\", \"Jennifer\", \"Jamie\"\n",
    "- Write a for loop:\n",
    "- - for passenger in passnger_list\n",
    "- - prints \"Dear %s, check in completed. Please proceed to gate 7\" %passenger\n",
    "- - increments \"passenger_check_in\" by 1"
   ]
  },
  {
   "cell_type": "code",
   "execution_count": null,
   "metadata": {
    "collapsed": true
   },
   "outputs": [],
   "source": [
    "# write your code below this line"
   ]
  },
  {
   "cell_type": "markdown",
   "metadata": {},
   "source": [
    "## DICTIONARY\n",
    "Dictionary is a data type that consists of key-value pairs.\n",
    "\n",
    "*Example*\n",
    "```python\n",
    "dog = {\"Name\": \"Puggingston\", \"Age\": 2, \"Breed\": \"Pug\"}\n",
    "print(dog)\n",
    "```\n",
    "\n",
    "### Accessing Values with Keys\n",
    "*Example*\n",
    "```python\n",
    "print(dog[\"Name\"])\n",
    "print(dog[\"Age\"])\n",
    "print(dog[\"Breed\"])\n",
    "```\n",
    "\n",
    "**Example**\n",
    "- Declare a new dictionary \"cat\" with the following key-value pairs:\n",
    "- - \"Name\": \"Grumpy\"\n",
    "- - \"Age\": 5\n",
    "- - \"Breed\": \"Persian\"\n",
    "- Print out each key-value pair on a separate line\n",
    "- Add a new key called \"favourite\" with the value \"True\""
   ]
  },
  {
   "cell_type": "code",
   "execution_count": 15,
   "metadata": {},
   "outputs": [
    {
     "name": "stdout",
     "output_type": "stream",
     "text": [
      "Age 5\n",
      "Breed Persian\n",
      "Name Grumpy\n"
     ]
    }
   ],
   "source": [
    "cat = {\n",
    "    \"Name\": \"Grumpy\",\n",
    "    \"Age\": 5,\n",
    "    \"Breed\": \"Persian\"\n",
    "}\n",
    "\n",
    "#LOOP THROUGH THE KEY\n",
    "#FOR EACH KEY, ACCESS THE VALUE FOR THAT KEY FROM THE DICT\n",
    "\n",
    "mykeys = cat.keys()\n",
    "\n",
    "# for each_key in mykeys:\n",
    "#     print(each_key + \" \" + str(cat[each_key]) )\n",
    "\n",
    "\n",
    "#LOOP THROUGH THE DICT, GET THE ALL THE ITEMS IN ONE SHOT\n",
    "for k_v_tuple in cat.items():\n",
    "    print k_v_tuple[0] , k_v_tuple[1]\n",
    "    "
   ]
  },
  {
   "cell_type": "markdown",
   "metadata": {},
   "source": [
    "### Adding (Key: Value) Pairs\n",
    "\n",
    "*Example*\n",
    "```python\n",
    "dog = {\"Name\": \"Puggingston\", \"Age\": 2, \"Breed\": \"Pug\"}\n",
    "dog[\"Legs\"] = 4\n",
    "dog[\"Favourite Toy\"] = \"Tennis Ball\"\n",
    "```\n",
    "**Exercise**\n",
    "- Add the following key-value pairs to the \"cat\" dictionary\n",
    "- - \"Collar\": \"Blue\"\n",
    "- - \"Legs\": 4\n",
    "- - \"Favourite Toy\": \"Feather Duster\""
   ]
  },
  {
   "cell_type": "code",
   "execution_count": 18,
   "metadata": {},
   "outputs": [
    {
     "name": "stdout",
     "output_type": "stream",
     "text": [
      "{'Name': 'Grumpy', 'Age': 5, 'Breed': 'Persian', 'Legs': 4, 'Favourite Toy': 'Feather Duster', 'Collar': 'Blue'}\n"
     ]
    }
   ],
   "source": [
    "cat[\"Collar\"] = \"Blue\"\n",
    "cat[\"Legs\"] = 4\n",
    "cat[\"Favourite Toy\"] = \"Feather Duster\"\n",
    "print cat "
   ]
  },
  {
   "cell_type": "code",
   "execution_count": 21,
   "metadata": {},
   "outputs": [
    {
     "name": "stdout",
     "output_type": "stream",
     "text": [
      "True\n"
     ]
    }
   ],
   "source": [
    "print cat.has_key(\"Legs\")"
   ]
  },
  {
   "cell_type": "code",
   "execution_count": 33,
   "metadata": {},
   "outputs": [
    {
     "name": "stdout",
     "output_type": "stream",
     "text": [
      "3\n"
     ]
    }
   ],
   "source": [
    "inventory = {\n",
    "    'gold' : 500,\n",
    "    'pouch' : ['flint', 'twine', 'gemstone'],\n",
    "    'backpack' : ['xylophone','dagger', 'bedroll','bread loaf']\n",
    "}\n",
    "\n",
    "# help(inventory)\n",
    "print inventory.__len__()\n"
   ]
  },
  {
   "cell_type": "code",
   "execution_count": 26,
   "metadata": {},
   "outputs": [
    {
     "name": "stdout",
     "output_type": "stream",
     "text": [
      "flint\n",
      "twine\n",
      "gemstone\n"
     ]
    }
   ],
   "source": [
    "# PRINT ALL THE VALUES FROM 'pouch' from the inventory dict\n",
    "values = inventory['pouch']\n",
    "\n",
    "for each_value in values:\n",
    "    print (each_value)"
   ]
  },
  {
   "cell_type": "code",
   "execution_count": 30,
   "metadata": {},
   "outputs": [
    {
     "name": "stdout",
     "output_type": "stream",
     "text": [
      "['xylophone', 'dagger', 'bedroll', 'bread loaf']\n",
      "4\n"
     ]
    }
   ],
   "source": [
    "# Count how many items under the key 'backpack', in the dictonary\n",
    "backpack_list  =  inventory[\"backpack\"]\n",
    "print (backpack_list)\n",
    "\n",
    "print len(backpack_list)\n",
    "\n",
    "# count = 0\n",
    "# for each_item in backpack_list:\n",
    "#     count = count+1\n",
    "\n",
    "# print count"
   ]
  },
  {
   "cell_type": "code",
   "execution_count": null,
   "metadata": {
    "collapsed": true
   },
   "outputs": [],
   "source": [
    "#COMBILE BOTH Pouch & backpack list from the dict, and print the values.\n"
   ]
  },
  {
   "cell_type": "markdown",
   "metadata": {},
   "source": [
    "## CLASSES"
   ]
  },
  {
   "cell_type": "markdown",
   "metadata": {
    "collapsed": true
   },
   "source": [
    "Python is an object-oriented language. An object is a basic component of object-oriented programming. A class is the blueprint for creating an object.\n",
    "\n",
    "In our example, we are creating an object called Cat and the class defines the properties and attributes of Cat. The \"class\" keyword does not create the object, it merely tells Python what attributes and methods to include when Cat is created. Methods are functions that are defined inside the class. \n",
    "\n",
    "The \"\\__init\\__\" function is the default initialisation function in python.  \n",
    "\n",
    "*Example*\n",
    "```python\n",
    "class Cat(object):\n",
    "    def __init__(self):\n",
    "        pass\n",
    "```\n",
    "\n",
    "**Exercise**\n",
    "- Declare a new class called \"Aircraft\" that takes in the argument of \"object\"\n",
    "- Inside the class, define the following attributes and methods\n",
    "- - \"\\__init\\__\" function that takes in self, model, capacity\n",
    "- - inside the init function, set self.model = model and self.capacity = capacity\n",
    "- - instantiate the class "
   ]
  },
  {
   "cell_type": "markdown",
   "metadata": {
    "collapsed": true
   },
   "source": [
    "EXERCISE: 2\n",
    "\n",
    "- Create a class, Triangle. \n",
    "- Its __init__() method should take self, angle1, angle2, and angle3 as arguments. Make sure to set these appropriately in the body of the __init__()method.\n",
    "\n",
    "- Create a variable named number_of_sides and set it equal to 3.\n",
    "- Create a method named check_angles. \n",
    "- The sum of a triangle's three angles is It should return True if the sum of self.angle1, self.angle2, and self.angle3 is equal 180, and False otherwise.\n",
    "- Create a variable named my_triangle and set it equal to a new instance of your Triangle class. Pass it three angles that sum to 180 (e.g. 90, 30, 60).\n",
    "- Print out my_triangle.number_of_sides and print out my_triangle.check_angles()."
   ]
  },
  {
   "cell_type": "code",
   "execution_count": 43,
   "metadata": {},
   "outputs": [
    {
     "name": "stdout",
     "output_type": "stream",
     "text": [
      "90\n",
      "True\n",
      "False\n",
      "3\n"
     ]
    }
   ],
   "source": [
    "class Triangle:\n",
    "    number_of_sides = 3\n",
    "    def __init__(self, angle1, angle2, angle3):\n",
    "        self.angle1 = angle1\n",
    "        self.angle2 = angle2\n",
    "        self.angle3 = angle3\n",
    "        \n",
    "        \n",
    "    def check_angles(self):\n",
    "        if self.angle1 + self.angle2 + self.angle3 == 180:\n",
    "            return True\n",
    "        else:\n",
    "            return False\n",
    "\n",
    "sample = Triangle(90, 60, 30)\n",
    "print sample.angle1\n",
    "print sample.check_angles()\n",
    "sample = Triangle(90, 60, 20)\n",
    "print sample.check_angles()\n",
    "print sample.number_of_sides"
   ]
  },
  {
   "cell_type": "markdown",
   "metadata": {},
   "source": [
    "- Define a class called Songs, it will show the lyrics of a song. \n",
    "- Its __init__() method should have two arguments:self and lyrics. lyrics is a list. \n",
    "- Inside your class create a method called sing_me_a_song that prints each element of lyricsis in own line. Define a varible:\n",
    "```\n",
    "happy_bday = Song([\"May god bless you, \",\n",
    "                   \"Have a sunshine on you,\",\n",
    "                   \"Happy Birthday to you !\"])\n",
    "```\n",
    "- Call the sing_me_song method on this variable."
   ]
  },
  {
   "cell_type": "code",
   "execution_count": 47,
   "metadata": {},
   "outputs": [
    {
     "name": "stdout",
     "output_type": "stream",
     "text": [
      "May god bless you, \n",
      "Have a sunshine on you,\n",
      "Happy Birthday to you !\n"
     ]
    }
   ],
   "source": [
    "class Song():    \n",
    "    def __init__ (self, lyrics):\n",
    "        self.lyrics= lyrics\n",
    "        \n",
    "    def sing_me_a_song(self):\n",
    "        for l in self.lyrics:\n",
    "            print l\n",
    "happy_bday = Song([\"May god bless you, \",\n",
    "                   \"Have a sunshine on you,\",\n",
    "                   \"Happy Birthday to you !\"])\n",
    "happy_bday.sing_me_a_song()"
   ]
  },
  {
   "cell_type": "markdown",
   "metadata": {},
   "source": [
    "Define a class called Lunch.Its __init__() method should have two arguments:self and menu.Where menu is a string. Add a method called menu_price.It will involve a ifstatement:\n",
    "\n",
    "if \"menu 1\" print \"Your choice:\", menu, \"Price 12.00\", if \"menu 2\" print \"Your choice:\", menu, \"Price 13.40\", else print \"Error in menu\".\n",
    "To check if it works define: Paul=Lunch(\"menu 1\") and call Paul.menu_price()."
   ]
  },
  {
   "cell_type": "code",
   "execution_count": 49,
   "metadata": {},
   "outputs": [
    {
     "name": "stdout",
     "output_type": "stream",
     "text": [
      " Your choice: menu 1 Price 12.00\n"
     ]
    }
   ],
   "source": [
    "class Lunch():\n",
    "    \n",
    "    def __init__(self,menu):\n",
    "        self.menu = menu\n",
    "        \n",
    "    def menu_price(self):\n",
    "        if self.menu == 'menu 1':\n",
    "            print \"Your choice:\", self.menu, \"Price 12.00\"\n",
    "        elif self.menu == 'menu 2':\n",
    "            print \"Your choice:\", self.menu, \"Price 13.40\"\n",
    "        else:\n",
    "            print \"Error in menu\"\n",
    "        \n",
    "Paul=Lunch(\"menu 1\")\n",
    "Paul.menu_price()"
   ]
  },
  {
   "cell_type": "markdown",
   "metadata": {},
   "source": []
  },
  {
   "cell_type": "code",
   "execution_count": null,
   "metadata": {
    "collapsed": true
   },
   "outputs": [],
   "source": []
  }
 ],
 "metadata": {
  "kernelspec": {
   "display_name": "Python 2",
   "language": "python",
   "name": "python2"
  },
  "language_info": {
   "codemirror_mode": {
    "name": "ipython",
    "version": 2
   },
   "file_extension": ".py",
   "mimetype": "text/x-python",
   "name": "python",
   "nbconvert_exporter": "python",
   "pygments_lexer": "ipython2",
   "version": "2.7.13"
  }
 },
 "nbformat": 4,
 "nbformat_minor": 2
}
