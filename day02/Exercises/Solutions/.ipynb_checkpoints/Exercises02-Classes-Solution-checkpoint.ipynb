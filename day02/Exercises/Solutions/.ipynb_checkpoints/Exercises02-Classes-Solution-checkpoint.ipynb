{
 "cells": [
  {
   "cell_type": "markdown",
   "metadata": {},
   "source": [
    "## Exercise 1"
   ]
  },
  {
   "cell_type": "raw",
   "metadata": {
    "collapsed": true
   },
   "source": [
    "Follow the steps:\n",
    "\n",
    "1. Create a class, Triangle. Its __init__() method should take self, angle1, angle2, and angle3 as arguments. Make sure to set these appropriately in the body of the __init__()method.\n",
    "2. Create a variable named number_of_sides and set it equal to 3.\n",
    "3. Create a method named check_angles. The sum of a triangle's three angles is It should return True if the sum of self.angle1, self.angle2, and self.angle3 is equal 180, and False otherwise.\n",
    "4. Create a variable named my_triangle and set it equal to a new instance of your Triangle class. Pass it three angles that sum to 180 (e.g. 90, 30, 60).\n",
    "5. Print out my_triangle.number_of_sides and print out my_triangle.check_angles()."
   ]
  },
  {
   "cell_type": "code",
   "execution_count": 5,
   "metadata": {},
   "outputs": [
    {
     "name": "stdout",
     "output_type": "stream",
     "text": [
      "3\n",
      "True\n"
     ]
    }
   ],
   "source": [
    "# Solution\n",
    "class Triangle(object):\n",
    "    def __init__(self,angle1,angle2,angle3):\n",
    "        self.angle1=angle1\n",
    "        self.angle2=angle2\n",
    "        self.angle3=angle3\n",
    "\n",
    "    number_of_sides=3\n",
    "    def check_angles(self):\n",
    "        if self.angle1+self.angle2+self.angle3 ==180:\n",
    "            return True\n",
    "        else:\n",
    "            return False\n",
    "\n",
    "class Equilateral(Triangle):\n",
    "   angle = 60\n",
    "   def __init__(self):\n",
    "        self.angle1 = self.angle2 = self.angle3 = self.angle\n",
    "\n",
    "my_triangle=Triangle(90,30,60)\n",
    "\n",
    "print(my_triangle.number_of_sides)\n",
    "\n",
    "print(my_triangle.check_angles())"
   ]
  },
  {
   "cell_type": "markdown",
   "metadata": {},
   "source": [
    "## Exercise 2"
   ]
  },
  {
   "cell_type": "raw",
   "metadata": {},
   "source": [
    "Define a class called Songs, it will show the lyrics of a song. Its __init__() method should have two arguments:self and lyrics. lyrics is a list. Inside your class create a method called sing_me_a_songthat prints each element of lyrics on his own line. Define a varible:\n",
    "\n",
    "happy_bday = Song([\"May god bless you, \",\n",
    "                   \"Have a sunshine on you,\",\n",
    "                   \"Happy Birthday to you !\"])\n",
    "                   \n",
    "Call the sing_me_song method on this variable."
   ]
  },
  {
   "cell_type": "markdown",
   "metadata": {},
   "source": [
    "## Exercise 3"
   ]
  },
  {
   "cell_type": "raw",
   "metadata": {},
   "source": [
    "Define a class called Lunch. Its __init__() method should have two arguments: self and menu where menu is a string. Add a method called menu_price. It will involve a if statement:\n",
    "\n",
    "if \"menu 1\" print \"Your choice:\", menu, \"Price 12.00\", if \"menu 2\" print \"Your choice:\", menu, \"Price 13.40\", else print \"Error in menu\".\n",
    "\n",
    "To check if it works define: Paul=Lunch(\"menu 1\") and call Paul.menu_price()."
   ]
  },
  {
   "cell_type": "markdown",
   "metadata": {},
   "source": [
    "## Solutions"
   ]
  },
  {
   "cell_type": "code",
   "execution_count": 4,
   "metadata": {},
   "outputs": [
    {
     "name": "stdout",
     "output_type": "stream",
     "text": [
      "May god bless you, \n",
      "Have a sunshine on you,\n",
      "Happy Birthday to you !\n",
      "None\n"
     ]
    }
   ],
   "source": [
    "# Exercise 2\n",
    "class Song(object):\n",
    "    def __init__(self, lyrics):\n",
    "        self.lyrics=lyrics\n",
    "    def sing_me_a_song(self):\n",
    "        for line in self.lyrics:\n",
    "            print(line)\n",
    "\n",
    "happy_bday = Song([\"May god bless you, \",\n",
    "                   \"Have a sunshine on you,\",\n",
    "                   \"Happy Birthday to you !\"])\n",
    "\n",
    "print (happy_bday.sing_me_a_song())\n"
   ]
  },
  {
   "cell_type": "code",
   "execution_count": 3,
   "metadata": {},
   "outputs": [
    {
     "name": "stdout",
     "output_type": "stream",
     "text": [
      "Enter menu choice: menu 1\n",
      "Your choice:menu 1 Price 12.00\n"
     ]
    }
   ],
   "source": [
    "# Exercise 3\n",
    "class Lunch(object):\n",
    "    def __init__(self,menu):\n",
    "        self.menu=menu\n",
    "\n",
    "    def menu_price(self):\n",
    "         if self.menu==\"menu 1\":\n",
    "            print (\"Your choice:\" + menu + \" Price 12.00\")\n",
    "         elif self.menu==\"menu 2\":\n",
    "            print (\"Your choice:\" + menu + \" Price 13.40\")\n",
    "         else:\n",
    "            print (\"Error in menu\")\n",
    "menu = raw_input(\"Enter menu choice: \")\n",
    "Paul=Lunch(menu)\n",
    "Paul.menu_price()"
   ]
  },
  {
   "cell_type": "code",
   "execution_count": null,
   "metadata": {
    "collapsed": true
   },
   "outputs": [],
   "source": []
  }
 ],
 "metadata": {
  "kernelspec": {
   "display_name": "Python 2",
   "language": "python",
   "name": "python2"
  },
  "language_info": {
   "codemirror_mode": {
    "name": "ipython",
    "version": 2
   },
   "file_extension": ".py",
   "mimetype": "text/x-python",
   "name": "python",
   "nbconvert_exporter": "python",
   "pygments_lexer": "ipython2",
   "version": "2.7.12"
  }
 },
 "nbformat": 4,
 "nbformat_minor": 2
}
