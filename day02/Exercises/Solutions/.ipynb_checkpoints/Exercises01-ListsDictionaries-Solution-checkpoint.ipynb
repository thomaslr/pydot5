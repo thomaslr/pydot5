{
 "cells": [
  {
   "cell_type": "markdown",
   "metadata": {},
   "source": [
    "## Exercise 1"
   ]
  },
  {
   "cell_type": "raw",
   "metadata": {},
   "source": [
    "Given the following dictionary:\n",
    "\n",
    "inventory = {\n",
    "    'gold' : 500,\n",
    "    'pouch' : ['flint', 'twine', 'gemstone'],\n",
    "    'backpack' : ['xylophone','dagger', 'bedroll','bread loaf']\n",
    "}\n",
    "\n",
    "Try to do the following:\n",
    "\n",
    "Add a key to inventory called 'pocket'.\n",
    "Set the value of 'pocket' to be a list consisting of the strings 'seashell', 'strange berry', and 'lint'.\n",
    ".sort()the items in the list stored under the 'backpack' key.\n",
    "Then .remove('dagger') from the list of items stored under the 'backpack' key.\n",
    "Add 50 to the number stored under the 'gold' key."
   ]
  },
  {
   "cell_type": "code",
   "execution_count": 2,
   "metadata": {},
   "outputs": [
    {
     "name": "stdout",
     "output_type": "stream",
     "text": [
      "{'pocket': ['seashell', 'strange berry', 'lint'], 'backpack': ['bedroll', 'bread loaf', 'xylophone'], 'pouch': ['flint', 'twine', 'gemstone'], 'gold': 550}\n"
     ]
    }
   ],
   "source": [
    "#Solution \n",
    "inventory = {\n",
    "    'gold' : 500,\n",
    "    'pouch' : ['flint', 'twine', 'gemstone'],\n",
    "    'backpack' : ['xylophone','dagger', 'bedroll','bread loaf']\n",
    "}\n",
    "\n",
    "inventory['pocket']=['seashell', 'strange berry', 'lint']\n",
    "\n",
    "inventory['backpack'].sort()\n",
    "\n",
    "inventory['backpack'].remove('dagger')\n",
    "\n",
    "inventory['gold']=inventory['gold']+50\n",
    "\n",
    "print(inventory)\n",
    "\n"
   ]
  },
  {
   "cell_type": "markdown",
   "metadata": {},
   "source": [
    "## Exercise 2"
   ]
  },
  {
   "cell_type": "raw",
   "metadata": {},
   "source": [
    "Folow the steps bellow: -Create a new dictionary called prices using {} format like the example above.\n",
    "\n",
    "Put these values in your prices dictionary:\n",
    "\"banana\": 4,\n",
    "\"apple\": 2,\n",
    "\"orange\": 1.5,\n",
    "\"pear\": 3\n",
    "Loop through each key in prices. For each key, print out the key along with its price and stock information. Print the answer in the following format:\n",
    "apple\n",
    "price: 2\n",
    "stock: 0\n",
    "Let's determine how much money you would make if you sold all of your food.\n",
    "\n",
    "Create a variable called total and set it to zero.\n",
    "Loop through the prices dictionaries.For each key in prices, multiply the number in prices by the number in stock. Print that value into the console and then add it to total.\n",
    "Finally, outside your loop, print total."
   ]
  },
  {
   "cell_type": "code",
   "execution_count": 4,
   "metadata": {},
   "outputs": [
    {
     "name": "stdout",
     "output_type": "stream",
     "text": [
      "orange\n",
      "price: 1.5\n",
      "stock: 32\n",
      "pear\n",
      "price: 3\n",
      "stock: 15\n",
      "banana\n",
      "price: 4\n",
      "stock: 6\n",
      "apple\n",
      "price: 2\n",
      "stock: 0\n",
      "48.0\n",
      "45\n",
      "24\n",
      "0\n",
      "The total money is: 117.0\n"
     ]
    }
   ],
   "source": [
    "#Create the prices dictionary:\n",
    "prices={}\n",
    "#Add values\n",
    "prices[\"banana\"]=4\n",
    "prices[\"apple\"]= 2\n",
    "prices[\"orange\"]= 1.5\n",
    "prices[\"pear\"]= 3\n",
    "\n",
    "#Create the stock dictionary\n",
    "stock={}\n",
    "#Add values\n",
    "stock[\"banana\"]= 6\n",
    "stock[\"apple\"]= 0\n",
    "stock[\"orange\"] =32\n",
    "stock[\"pear\"]= 15\n",
    " \n",
    "#Show all prices and stock\n",
    "\n",
    "for food in prices:\n",
    "    print food\n",
    "    print \"price: %s\" % prices[food]\n",
    "    print \"stock: %s\" % stock[food]\n",
    "    \n",
    "total=0\n",
    " \n",
    "for price in prices:\n",
    "    money= prices[price]*stock[price]\n",
    "    print money\n",
    "    total=total +money\n",
    " \n",
    "print( \"The total money is: \" + str(total) )"
   ]
  }
 ],
 "metadata": {
  "kernelspec": {
   "display_name": "Python 2",
   "language": "python",
   "name": "python2"
  },
  "language_info": {
   "codemirror_mode": {
    "name": "ipython",
    "version": 2
   },
   "file_extension": ".py",
   "mimetype": "text/x-python",
   "name": "python",
   "nbconvert_exporter": "python",
   "pygments_lexer": "ipython2",
   "version": "2.7.9"
  }
 },
 "nbformat": 4,
 "nbformat_minor": 2
}
