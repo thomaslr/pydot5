{
 "cells": [
  {
   "cell_type": "markdown",
   "metadata": {},
   "source": [
    "## <font color = grey>Lecture Notes: Day 2 - Advanced Concepts in Python</font>\n",
    "## Topics covered\n",
    "- Tuple\n",
    "- Dictionary\n",
    "- Exception Handling\n",
    "- Functions\n",
    "- Classes / objects\n",
    "- Modules\n",
    "- Import\n",
    "- Reading docs - walk through how to use external libraries\n"
   ]
  },
  {
   "cell_type": "markdown",
   "metadata": {},
   "source": [
    "# <font color = red>Tuple</font>"
   ]
  },
  {
   "cell_type": "markdown",
   "metadata": {},
   "source": [
    "* tuple is an **immutable list** which cannot be changed (no append, remove, extend) once it's created. \n",
    "* Similar to list, the first element of a non-empty tuple starts from the index 0. Tuples have faster access to elements than lists.\n",
    "* Useful for fixed data since it has faster access than list."
   ]
  },
  {
   "cell_type": "code",
   "execution_count": 28,
   "metadata": {},
   "outputs": [
    {
     "name": "stdout",
     "output_type": "stream",
     "text": [
      "b\n",
      "('a', 'b', 6)\n",
      "(6, 'example', 15)\n",
      "\n",
      "('a', 'b', 6, 'example', 15, 'e', 'f')\n"
     ]
    }
   ],
   "source": [
    "# Use () to create tuples\n",
    "\n",
    "tup1 = ('a','b', 6, 'example', 15)\n",
    "\n",
    "# Access specific elements using [index]\n",
    "\n",
    "print(tup1[1])\n",
    "print(tup1[0:3]) # index range from 0 to 2\n",
    "print(tup1[2:]) # index range from 2 to last index\n",
    "\n",
    "# Although it is impossible to update or change values in tuples, we can concatenate portions of different tuples.\n",
    "\n",
    "tup2 = ('e','f')\n",
    "tup3 = tup1 + tup2\n",
    "print(tup3)"
   ]
  },
  {
   "cell_type": "code",
   "execution_count": null,
   "metadata": {
    "collapsed": true
   },
   "outputs": [],
   "source": [
    "# deleting tuple using \"del\" statement\n",
    "\n",
    "del tup3\n",
    "print(tup3)"
   ]
  },
  {
   "cell_type": "markdown",
   "metadata": {},
   "source": [
    "# <font color = red>Random Numbers</font>"
   ]
  },
  {
   "cell_type": "markdown",
   "metadata": {},
   "source": [
    "* Use built-in function that generates pseudorandom numbers, which are not truly random in the mathematical sense, but for our purposes they will do.\n",
    "\n",
    "* The random module contains a function called random that returns a floating-point number between 0.0 and 1.0.\n"
   ]
  },
  {
   "cell_type": "code",
   "execution_count": 1,
   "metadata": {},
   "outputs": [
    {
     "name": "stdout",
     "output_type": "stream",
     "text": [
      "0.0202880296071\n",
      "0.265371461802\n",
      "0.499569598914\n",
      "0.550516723895\n",
      "0.530447172467\n"
     ]
    }
   ],
   "source": [
    "import random \n",
    "\n",
    "for i in range(5): \n",
    "  x = random.random() \n",
    "  print(x) "
   ]
  },
  {
   "cell_type": "code",
   "execution_count": 5,
   "metadata": {},
   "outputs": [
    {
     "name": "stdout",
     "output_type": "stream",
     "text": [
      "[0.8975430346460544, 0.7584539005298964, 0.8234124042408911, 0.2192075510711241]\n"
     ]
    }
   ],
   "source": [
    "# takes an integer argument and returns a list of random numbers with the given length (n)\n",
    "\n",
    "def list_with_random_values(n): \n",
    "  s = [0] * n # creates a list length of n\n",
    "  for i in range(n): \n",
    "    s[i] = random.random() # assign random values in each index\n",
    "  return s \n",
    "\n",
    "# list with 4 random values\n",
    "print(list_with_random_values(4))"
   ]
  },
  {
   "cell_type": "markdown",
   "metadata": {
    "collapsed": true
   },
   "source": [
    "# <font color = red>Dictionary</font>"
   ]
  },
  {
   "attachments": {
    "dictionary%20init.png": {
     "image/png": "[encoded data removed]"
    }
   },
   "cell_type": "markdown",
   "metadata": {},
   "source": [
    "* Similar to list but associates **values** with **keys** (key-value pair) -> efficient to look them up later.  \n",
    "* Keys are separated from its value by a colon, items are separated by commas.\n",
    "* Keys are unique within dictionary; whereas values are not. \n",
    "* Dictionaries are unordered and unsortable.\n",
    "\n",
    "![dictionary%20init.png](attachment:dictionary%20init.png)"
   ]
  },
  {
   "cell_type": "code",
   "execution_count": 8,
   "metadata": {},
   "outputs": [
    {
     "name": "stdout",
     "output_type": "stream",
     "text": [
      "{'Age': 23, 'Name': 'john', 'Class': 'First'}\n",
      "<type 'dict'>\n"
     ]
    }
   ],
   "source": [
    "my_dict = {'Name': 'john', 'Age': 23, 'Class':'First'}\n",
    "print(my_dict)\n",
    "print type(my_dict)"
   ]
  },
  {
   "cell_type": "markdown",
   "metadata": {},
   "source": [
    "** You can access values with using key names (since key names are unique) ** "
   ]
  },
  {
   "cell_type": "code",
   "execution_count": 10,
   "metadata": {},
   "outputs": [
    {
     "name": "stdout",
     "output_type": "stream",
     "text": [
      "john\n",
      "23\n"
     ]
    }
   ],
   "source": [
    "# Accessing values with keys\n",
    "print(my_dict['Name'])\n",
    "print(my_dict['Age'])"
   ]
  },
  {
   "cell_type": "markdown",
   "metadata": {},
   "source": [
    "** You can add and delete key:value pairs ** "
   ]
  },
  {
   "cell_type": "code",
   "execution_count": null,
   "metadata": {
    "collapsed": true
   },
   "outputs": [],
   "source": [
    "# Adding (key : value) pairs\n",
    "\n",
    "my_dict['Gender'] = 'male'\n",
    "my_dict['Occupation'] = 'journalist'\n",
    "my_dict['Phone_number'] = 123456789\n",
    "print(my_dict)\n",
    "\n",
    "\n",
    "\n",
    "# Deleting (key : value) pair \n",
    "\n",
    "del my_dict['Phone_number']\n",
    "print(my_dict)"
   ]
  },
  {
   "cell_type": "markdown",
   "metadata": {},
   "source": [
    "** You can access all keys using dictionary_name.keys() ** "
   ]
  },
  {
   "cell_type": "code",
   "execution_count": 12,
   "metadata": {},
   "outputs": [
    {
     "name": "stdout",
     "output_type": "stream",
     "text": [
      "<type 'list'>\n",
      "['Name', 'Gender', 'Age', 'Class', 'Occupation']\n"
     ]
    }
   ],
   "source": [
    "# return a list of keys in dictionary\n",
    "mykeys = my_dict.keys()\n",
    "\n",
    "print (type(mykeys))\n",
    "\n",
    "print (mykeys)"
   ]
  },
  {
   "cell_type": "markdown",
   "metadata": {},
   "source": [
    "** You can access all values using dictionary_name.values() ** "
   ]
  },
  {
   "cell_type": "code",
   "execution_count": null,
   "metadata": {
    "collapsed": true
   },
   "outputs": [],
   "source": [
    "# return a list of values in dictionary\n",
    "\n",
    "# Assign a variable to all the values, this variable becomes a list type \n",
    "my_values = my_dict.values()\n",
    "\n",
    "print (type(my_values))\n",
    "\n",
    "print (my_values)"
   ]
  },
  {
   "cell_type": "markdown",
   "metadata": {},
   "source": [
    "** Access keys and values with a for loop ** \n",
    "* The loop accesses keys and values \n",
    "* dictionary_name.keys() accesses the keys \n",
    "* Use index to access values (dictionary_name[key]) "
   ]
  },
  {
   "cell_type": "code",
   "execution_count": 14,
   "metadata": {},
   "outputs": [
    {
     "name": "stdout",
     "output_type": "stream",
     "text": [
      "Name - john\n",
      "Gender - male\n",
      "Age - 23\n",
      "Class - First\n",
      "Occupation - journalist\n"
     ]
    }
   ],
   "source": [
    "for key in my_dict.keys():\n",
    "#     print key\n",
    "    print(key + \" - \" + str(my_dict[key]))"
   ]
  },
  {
   "cell_type": "code",
   "execution_count": 16,
   "metadata": {},
   "outputs": [
    {
     "name": "stdout",
     "output_type": "stream",
     "text": [
      "<type 'str'>\n",
      "john\n",
      "<type 'str'>\n",
      "male\n",
      "<type 'str'>\n",
      "23\n",
      "<type 'str'>\n",
      "First\n",
      "<type 'str'>\n",
      "journalist\n"
     ]
    }
   ],
   "source": [
    "# tuple1 = (4,5,6)\n",
    "# items = my_dict.items()\n",
    "# print type(items)\n",
    "# print items\n",
    "\n",
    "\n",
    "for key_value_tuple in my_dict.keys():\n",
    "    \n",
    "    print (type(key_value_tuple))\n",
    "    print (my_dict[key_value_tuple])\n"
   ]
  },
  {
   "cell_type": "markdown",
   "metadata": {},
   "source": [
    "### Dictionary methods\n",
    "* Note: **Items** are key-value pairs "
   ]
  },
  {
   "cell_type": "code",
   "execution_count": 17,
   "metadata": {},
   "outputs": [
    {
     "name": "stdout",
     "output_type": "stream",
     "text": [
      "['Name', 'Gender', 'Age', 'Class', 'Occupation']\n",
      "['john', 'male', 23, 'First', 'journalist']\n",
      "[('Name', 'john'), ('Gender', 'male'), ('Age', 23), ('Class', 'First'), ('Occupation', 'journalist')]\n",
      "True\n",
      "{'Gender': 'male', 'Age': 23, 'Occupation': 'journalist', 'Name': 'john', 'Class': 'First'}\n"
     ]
    }
   ],
   "source": [
    "# return a list of keys in dictionary\n",
    "print(my_dict.keys())\n",
    "\n",
    "# return a list of values in dictionary\n",
    "print(my_dict.values())\n",
    "\n",
    "# return key-value pairs in the form of tuple\n",
    "print(my_dict.items())\n",
    "\n",
    "# takes a key and returns True if the key appears in the dictionary, otherwise False.\n",
    "print(my_dict.has_key('Name'))\n",
    "\n",
    "# Keep copy of original \n",
    "copied_dict = my_dict.copy()\n",
    "print (copied_dict)"
   ]
  },
  {
   "cell_type": "markdown",
   "metadata": {},
   "source": [
    "# <font color = red>Try/Except (Exception handling)</font>"
   ]
  },
  {
   "cell_type": "markdown",
   "metadata": {},
   "source": [
    "There are different types of **errors**: Syntax errors and exceptions. \n",
    "* ** Exceptions ** are errors that are encountered during execution\n",
    "* We **handle** exeptions with **try/except statements** (kind of like if-elif-else statements: *if* the error is encountered, *then* we do this) \n",
    "\n",
    "*Sometimes we might want to execute an operation that could cause an exception, but we don't want the program to stop or crash. \n",
    "We can handle the exception using try and except statements.*"
   ]
  },
  {
   "cell_type": "markdown",
   "metadata": {},
   "source": [
    "**What it consists of** \n",
    "\n",
    "There are three blocks to remember: **try**, **except**, and **finally** *(kind of like if-elif-else)*\n",
    "* The **try** block contains the main code to be executed \n",
    "* The **except** block(s) contain different types of exceptions (errors) that can be encountered and what to do if the exception is encountered\n",
    "* The **finally** block contains code that will be executed regardless of an exception (not required to have a finally block) "
   ]
  },
  {
   "cell_type": "markdown",
   "metadata": {},
   "source": [
    "** How it works** \n",
    "\n",
    "If an error is encountered, a **try** block code execution is stopped and transferred down to the **except** block. \n",
    "\n",
    "In addition to using an **except** block after the try block, you can also use the finally block. \n",
    "You can use multiple except blocks to handle different kinds of exceptions. \n",
    "\n",
    "The code in the **finally** block will be executed regardless of whether an exception occurs."
   ]
  },
  {
   "cell_type": "code",
   "execution_count": 18,
   "metadata": {},
   "outputs": [
    {
     "name": "stdout",
     "output_type": "stream",
     "text": [
      "dividing by 0 is impossible\n",
      "This gets executed no matter what\n"
     ]
    }
   ],
   "source": [
    "try:\n",
    "    1/0\n",
    "except KeyError:\n",
    "    print('dividing by 0 is impossible')\n",
    "finally:\n",
    "    print('This gets executed no matter what')"
   ]
  },
  {
   "cell_type": "markdown",
   "metadata": {},
   "source": [
    "If your program detects an error condition, you can make it **raise** an exception. \n",
    "\n",
    "    raise statement takes two arguments: the exception type and specific information about the error.\n",
    "\n",
    "    Consider the next example:"
   ]
  },
  {
   "cell_type": "code",
   "execution_count": 20,
   "metadata": {
    "scrolled": true
   },
   "outputs": [
    {
     "name": "stdout",
     "output_type": "stream",
     "text": [
      "Pick a number: 5\n",
      "5\n"
     ]
    }
   ],
   "source": [
    "# Assume number 6 is not a valid input for some reason. We can raise an exception for this case.\n",
    "\n",
    "def inputNumber () : \n",
    "    x = input ('Pick a number: ') \n",
    "    if x == 6 : \n",
    "        raise ValueError, '6 is a bad number' \n",
    "    return x \n",
    "\n",
    "print (inputNumber())"
   ]
  },
  {
   "cell_type": "markdown",
   "metadata": {},
   "source": [
    "### - Common exception types\n",
    "* *refer to this link for more built-in exceptions -> https://docs.python.org/2.7/library/exceptions.html*\n",
    "\n",
    "**IOError**: If the file cannot be opened.\n",
    "\n",
    "**ImportError**: If python cannot find the module\n",
    "\n",
    "**ValueError**: Raised when a built-in operation or function receives an argument that has the right type but an inappropriate value\n",
    "\n",
    "**KeyboardInterrupt**: Raised when the user hits the interrupt key (normally Control-C or Delete)\n",
    "\n",
    "**EOFError**: Raised when one of the built-in functions (input() or raw_input()) hits an\n",
    "end-of-file condition (EOF) without reading any data\n"
   ]
  },
  {
   "cell_type": "markdown",
   "metadata": {},
   "source": [
    "# <font color = red>Classes / Objects</font>"
   ]
  },
  {
   "cell_type": "markdown",
   "metadata": {},
   "source": [
    "* Classes are a way of combining information and behavior. \n",
    "* All **objects** belong to a **class** and are said to be **instances** of that class. The class's main task is to define the **methods** its instances will have.\n",
    "* Here is an analogy: Class is a sketch (blueprint) of a house, and objects are the houses that are built based on the sketch.\n",
    "* An object is also called an instance of a class and the process of creating this object is called **instantiation**."
   ]
  },
  {
   "cell_type": "code",
   "execution_count": 29,
   "metadata": {
    "collapsed": true
   },
   "outputs": [],
   "source": [
    "# SYNTAX\n",
    "\n",
    "class CLASS_NAME:\n",
    "\n",
    "    pass # pass statement has no effect; it is only necessary because there must be something to execute in its body."
   ]
  },
  {
   "cell_type": "code",
   "execution_count": 1,
   "metadata": {
    "collapsed": true
   },
   "outputs": [],
   "source": [
    "# Example\n",
    "\n",
    "class Restaurant():\n",
    "    \n",
    "    bankrupt = False\n",
    "    \n",
    "    def open_branch(self):\n",
    "        if not self.bankrupt:\n",
    "            print(\"Branch opened\") \n",
    "        else:\n",
    "            print(\"Sorry, you don't have money to open new branch\")\n",
    "            \n",
    "# self parameters refers to abstract restaurant object"
   ]
  },
  {
   "cell_type": "markdown",
   "metadata": {},
   "source": [
    "### - Attributes"
   ]
  },
  {
   "cell_type": "markdown",
   "metadata": {},
   "source": [
    "* This syntax (dot notation) is similar to the syntax for selecting a variable from a module, such as math.pi or string.uppercase. In this case, though, we are selecting a data item from an instance. These named items are called attributes.\n",
    "\n",
    "* dot notation helps to identify which variable you are referring to unambiguously"
   ]
  },
  {
   "cell_type": "code",
   "execution_count": 4,
   "metadata": {},
   "outputs": [
    {
     "name": "stdout",
     "output_type": "stream",
     "text": [
      "Branch opened\n"
     ]
    }
   ],
   "source": [
    "x = Restaurant() # Instantiation of restaurant x\n",
    "\n",
    "x.bankrupt # means go to the object x refers to and get the value of bankrupt\n",
    "x.open_branch()"
   ]
  },
  {
   "cell_type": "code",
   "execution_count": 12,
   "metadata": {},
   "outputs": [
    {
     "name": "stdout",
     "output_type": "stream",
     "text": [
      "Sorry, you don't have money to open new branch\n"
     ]
    }
   ],
   "source": [
    "y = Restaurant() # Instantiation of restaurant y\n",
    "y.bankrupt = True\n",
    "y.open_branch()"
   ]
  },
  {
   "cell_type": "markdown",
   "metadata": {},
   "source": [
    "** Constructors ** : Without constructors, the caller cannot assume that the object is ready to use. It prepares the new object for use, often accepting arguments that the constructor uses to set required member variables."
   ]
  },
  {
   "cell_type": "code",
   "execution_count": null,
   "metadata": {
    "collapsed": true
   },
   "outputs": [],
   "source": [
    "def __init__(self, parameters) # Gets called whenever a new object of that class is instantiated"
   ]
  },
  {
   "cell_type": "markdown",
   "metadata": {},
   "source": [
    "### - Comprehensive example "
   ]
  },
  {
   "cell_type": "code",
   "execution_count": 15,
   "metadata": {
    "collapsed": true
   },
   "outputs": [],
   "source": [
    "class Car():\n",
    "    # Car simulates a car for a game, or a physics simulation.\n",
    "    \n",
    "    # Constructor\n",
    "    def __init__(self):\n",
    "        # Each car has an (x,y) position.\n",
    "        self.x = 0\n",
    "        self.y = 0\n",
    "        \n",
    "    def accelerate(self):\n",
    "        # Increment the x-position of the car.\n",
    "        self.x = self.x + 1"
   ]
  },
  {
   "cell_type": "code",
   "execution_count": 16,
   "metadata": {},
   "outputs": [
    {
     "name": "stdout",
     "output_type": "stream",
     "text": [
      "('Car speed: ', 0)\n",
      "('Car speed: ', 1)\n",
      "('Car speed: ', 2)\n"
     ]
    }
   ],
   "source": [
    "# Create a Rocket object, and have it start to accelerate.\n",
    "\n",
    "my_car = Car()\n",
    "print(\"Car speed: \", my_car.x)\n",
    "\n",
    "my_car.accelerate()\n",
    "print(\"Car speed: \", my_car.x)\n",
    "\n",
    "my_car.accelerate()\n",
    "print(\"Car speed: \", my_car.x)"
   ]
  },
  {
   "cell_type": "markdown",
   "metadata": {},
   "source": [
    "# <font color=red>Object-oriented features</font>"
   ]
  },
  {
   "cell_type": "markdown",
   "metadata": {},
   "source": [
    "Python is an object-oriented programming language. Here are some characteristics of it.\n",
    "\n",
    "* Programs are made up of object definitions and function definitions, and most of the computation is expressed in terms of operations on objects.\n",
    "\n",
    "* Each object definition corresponds to some object or concept in the real world, and the functions that operate on that object correspond to the ways real-world objects interact."
   ]
  },
  {
   "cell_type": "markdown",
   "metadata": {},
   "source": [
    "# <font color = red>Override</font>"
   ]
  },
  {
   "cell_type": "markdown",
   "metadata": {},
   "source": [
    "* To replace a default value with a particular argument and replacing a default method by providing new method with the same name"
   ]
  },
  {
   "cell_type": "code",
   "execution_count": 44,
   "metadata": {},
   "outputs": [
    {
     "name": "stdout",
     "output_type": "stream",
     "text": [
      "1\n",
      "2\n",
      "-1\n"
     ]
    }
   ],
   "source": [
    "def find(str, ch, start=0): \n",
    "    # Start parameter is optional because of the default set value 0 is provided. \n",
    "    # Invoking find() with the first two arguments will use the default value and starts from the beginning of the string.\n",
    "\n",
    "    index = start \n",
    "    while index < len(str): \n",
    "        if str[index] == ch: \n",
    "            return index \n",
    "        index = index + 1 \n",
    "    return -1 \n",
    "\n",
    "# Start at default value 0.\n",
    "print (find(\"apple\",\"p\"))\n",
    "\n",
    "# Providing third argument makes it to override the default\n",
    "print (find(\"apple\",\"p\",2))\n",
    "print (find(\"apple\",\"p\",3))"
   ]
  },
  {
   "cell_type": "markdown",
   "metadata": {},
   "source": [
    "# <font color=red>Modules / Import</font>"
   ]
  },
  {
   "cell_type": "markdown",
   "metadata": {},
   "source": [
    "* Module is a file consisting of Python code, including runnable codes and defining functions, classes, and variables. \n",
    "* Items are imported using keywords \"import\" and \"from ... import\" statements. \n",
    "* Modules are namespaces which can be used to organize variable names. \n",
    "* Each modules can contain attributes, classes and/or functions. "
   ]
  },
  {
   "cell_type": "code",
   "execution_count": null,
   "metadata": {
    "collapsed": true
   },
   "outputs": [],
   "source": [
    "# import statement\n",
    "\n",
    "import module1, module2, ..."
   ]
  },
  {
   "cell_type": "code",
   "execution_count": null,
   "metadata": {
    "collapsed": true
   },
   "outputs": [],
   "source": [
    "# from ... import statement lets you import specific attributes from a module into the current namespace\n",
    "\n",
    "from moduleName import name1, name2, ..."
   ]
  },
  {
   "cell_type": "code",
   "execution_count": null,
   "metadata": {
    "collapsed": true
   },
   "outputs": [],
   "source": [
    "from moduleName import name1 as whatever"
   ]
  },
  {
   "cell_type": "code",
   "execution_count": null,
   "metadata": {
    "collapsed": true
   },
   "outputs": [],
   "source": [
    "#Cool example: \n",
    "import datetime\n",
    "print(datetime.datetime.now())"
   ]
  },
  {
   "cell_type": "markdown",
   "metadata": {},
   "source": [
    "# <font color = red>Optional: Polymorphism (Will not be used in this course)</font> "
   ]
  },
  {
   "cell_type": "markdown",
   "metadata": {},
   "source": [
    "* Polymorphism means different types respond to the same function, makes programming more intuitive and easier. \n",
    "* Polymorphic behaviour allows you to specify common methods in an \"abstract\" level, and implement them in particular instances."
   ]
  },
  {
   "cell_type": "code",
   "execution_count": 49,
   "metadata": {
    "collapsed": true
   },
   "outputs": [],
   "source": [
    "# Example 1: \n",
    "\n",
    "class Person(object):\n",
    "    def pay_bill():\n",
    "        raise NotImplementedError\n",
    "\n",
    "class Millionare(Person):\n",
    "    def pay_bill():\n",
    "        print(\"Here you go! Keep the change!\")\n",
    "\n",
    "class GradStudent(Person):\n",
    "    def pay_bill():\n",
    "        print (\"Can I owe you ten bucks or do the dishes?\")\n",
    "        \n",
    "# Millionares and grad students are both persons. \n",
    "# But when it comes to paying a bill, their specific \"pay the bill\" action is different."
   ]
  },
  {
   "cell_type": "code",
   "execution_count": 51,
   "metadata": {},
   "outputs": [
    {
     "name": "stdout",
     "output_type": "stream",
     "text": [
      "Kitty: Meow!\n",
      "Puss: Meow!\n",
      "Spot: Woof! Woof!\n"
     ]
    }
   ],
   "source": [
    "# Example 2:\n",
    "\n",
    "class Animal:\n",
    "    def __init__(self, name):    # Constructor of the class\n",
    "        self.name = name\n",
    "    def talk(self):              # Abstract method, defined by convention only\n",
    "        raise NotImplementedError(\"Subclass must implement abstract method\")\n",
    "\n",
    "class Cat(Animal):\n",
    "    def talk(self):\n",
    "        return 'Meow!'\n",
    "\n",
    "class Dog(Animal):\n",
    "    def talk(self):\n",
    "        return 'Woof! Woof!'\n",
    "\n",
    "animals = [Cat('Kitty'),\n",
    "           Cat('Puss'),\n",
    "           Dog('Spot')]\n",
    "\n",
    "for animal in animals:\n",
    "    print (animal.name + ': ' + animal.talk())"
   ]
  },
  {
   "cell_type": "markdown",
   "metadata": {},
   "source": [
    "# <font color=red>Importing Third Party Library</font>"
   ]
  },
  {
   "cell_type": "markdown",
   "metadata": {},
   "source": [
    "*Make sure whatever you're importing is in the same directory as what you're running*"
   ]
  },
  {
   "cell_type": "markdown",
   "metadata": {},
   "source": [
    "    Note: pip is a python installer package"
   ]
  },
  {
   "cell_type": "markdown",
   "metadata": {},
   "source": [
    "For more information about what pip is, check out these resources:\n",
    "\n",
    "1. https://pip.pypa.io/en/stable/installing/\n",
    "2. https://packaging.python.org/tutorials/installing-packages/"
   ]
  },
  {
   "cell_type": "markdown",
   "metadata": {},
   "source": [
    "* If you have Python 2 >=2.7.9 or Python 3 >=3.4 installed from python.org, you will already have pip and setuptools, but will need to upgrade to the latest version. Follow the steps below in cmd."
   ]
  },
  {
   "cell_type": "code",
   "execution_count": null,
   "metadata": {
    "collapsed": true
   },
   "outputs": [],
   "source": [
    "# On Linux or OS X:\n",
    "    pip install -U pip setuptools \n",
    "    \n",
    "# On Windows\n",
    "    python -m pip install -U pip setuptools "
   ]
  },
  {
   "cell_type": "markdown",
   "metadata": {},
   "source": [
    "### - Use pip for installing packages"
   ]
  },
  {
   "cell_type": "raw",
   "metadata": {},
   "source": [
    "pip install PACKAGE_NAME            # latest version\n",
    "\n",
    "pip install PACKAGE_NAME==1.0.4     # specific version\n",
    "\n",
    "pip install 'PACKAGE_NAME>=1.0.4'     # minimum version\n",
    "\n",
    "pip install 'PACKAGE_NAME~=1.0.4'     # compatible with a certain version"
   ]
  },
  {
   "cell_type": "markdown",
   "metadata": {},
   "source": [
    "### - Upgrade packages"
   ]
  },
  {
   "cell_type": "raw",
   "metadata": {},
   "source": [
    "pip install --upgrade PACKAGE_NAME"
   ]
  },
  {
   "cell_type": "markdown",
   "metadata": {},
   "source": [
    "### - Listing  packages (to list all of the installed packages)\n"
   ]
  },
  {
   "cell_type": "raw",
   "metadata": {
    "collapsed": true
   },
   "source": [
    "pip list"
   ]
  },
  {
   "cell_type": "markdown",
   "metadata": {},
   "source": [
    "### - Show details about a specific installed package\n"
   ]
  },
  {
   "cell_type": "code",
   "execution_count": null,
   "metadata": {
    "collapsed": true
   },
   "outputs": [],
   "source": [
    "pip show PACKAGE_NAME"
   ]
  },
  {
   "cell_type": "markdown",
   "metadata": {},
   "source": [
    "# <font color=red>Files</font>"
   ]
  },
  {
   "cell_type": "markdown",
   "metadata": {},
   "source": [
    "To store data permanently, you have to put it in a **file**. When there are a large number of files, they are often organized into **directories** (also called \"folders\"). "
   ]
  },
  {
   "cell_type": "markdown",
   "metadata": {},
   "source": [
    "list of modes:\n",
    "\n",
    "\"w\": opening the file for writing \n",
    "\"r\": reading\n",
    "\"a\": appending\n",
    "\"+\": creates a new file if doesn't exist"
   ]
  },
  {
   "cell_type": "code",
   "execution_count": 14,
   "metadata": {
    "collapsed": true
   },
   "outputs": [],
   "source": [
    "# Opening a file - write in the file - close the file\n",
    "# SYNTAX: open(\"file_name\", \"mode\")\n",
    "\n",
    "f = open(\"test.txt\",\"w\")\n",
    "# if no file name \"test.txt\" exists, it will be created.\n",
    "\n",
    "# Putting data in the file with write method on the file object\n",
    "\n",
    "f.write(\"This is first sentence\\nwelcome\\n\")\n",
    "f.write(\"This is second sentence\\ngood bye\\n\")\n",
    "\n",
    "f.close()"
   ]
  },
  {
   "cell_type": "code",
   "execution_count": 15,
   "metadata": {},
   "outputs": [
    {
     "name": "stdout",
     "output_type": "stream",
     "text": [
      "This is first sentence\n",
      "welcome\n",
      "This is second sentence\n",
      "good bye\n",
      "\n"
     ]
    }
   ],
   "source": [
    "# Read method reads the entire contents of the file\n",
    "\n",
    "f = open(\"test.txt\",\"r\")\n",
    "text = f.read() \n",
    "print (text) \n",
    "\n",
    "f.close()"
   ]
  },
  {
   "cell_type": "code",
   "execution_count": 17,
   "metadata": {},
   "outputs": [
    {
     "name": "stdout",
     "output_type": "stream",
     "text": [
      "['This is first sentence\\n', 'welcome\\n', 'This is second sentence\\n', 'good bye\\n']\n"
     ]
    }
   ],
   "source": [
    "# readlines returns all of the remaining lines as a list of strings\n",
    "# Output is in list format \n",
    "# which means that the strings appear with quotation marks and the newline character appears as the escape sequence\n",
    "\n",
    "f = open(\"test.txt\",\"r\")\n",
    "text = f.readlines()\n",
    "\n",
    "print (text)\n",
    "f.close()"
   ]
  },
  {
   "cell_type": "code",
   "execution_count": 19,
   "metadata": {
    "collapsed": true
   },
   "outputs": [],
   "source": [
    "# readlines returns all of the lines as a list of strings\n",
    "# Output is in list format \n",
    "# which means that the strings appear with quotation marks and the newline character appears as the escape sequence\n",
    "\n",
    "f = open(\"test.txt\",\"r\")\n",
    "text = f.readlines()\n",
    "\n",
    "print (text)\n",
    "f.close()"
   ]
  },
  {
   "cell_type": "code",
   "execution_count": 18,
   "metadata": {},
   "outputs": [
    {
     "name": "stdout",
     "output_type": "stream",
     "text": [
      "<type 'file'>\n",
      "This is first sentence\n",
      "\n",
      "welcome\n",
      "\n",
      "This is second sentence\n",
      "\n",
      "good bye\n",
      "\n"
     ]
    }
   ],
   "source": [
    "# Process file line by line, not loading the whole file in the memory\n",
    "\n",
    "f = open(\"test.txt\",\"r\")\n",
    "print (type(f))\n",
    "for line in f:    \n",
    "    print (line)"
   ]
  },
  {
   "cell_type": "code",
   "execution_count": 136,
   "metadata": {},
   "outputs": [
    {
     "name": "stdout",
     "output_type": "stream",
     "text": [
      "First line: This is first sentence\n",
      "\n",
      "Second line: welcome\n",
      "\n",
      "Third line: This is second sentence\n",
      "\n"
     ]
    }
   ],
   "source": [
    "# The readline method reads all the characters up to and including the next newline character (one entire line from the file)\n",
    "\n",
    "f = open(\"test.txt\",\"r\")\n",
    "\n",
    "text1 = f.readline()\n",
    "text2 = f.readline()\n",
    "text3 = f.readline()\n",
    "\n",
    "print (\"First line: \" + text1)\n",
    "print (\"Second line: \" + text2)\n",
    "print (\"Third line: \" + text3)"
   ]
  }
 ],
 "metadata": {
  "kernelspec": {
   "display_name": "Python 2",
   "language": "python",
   "name": "python2"
  },
  "language_info": {
   "codemirror_mode": {
    "name": "ipython",
    "version": 2
   },
   "file_extension": ".py",
   "mimetype": "text/x-python",
   "name": "python",
   "nbconvert_exporter": "python",
   "pygments_lexer": "ipython2",
   "version": "2.7.13"
  }
 },
 "nbformat": 4,
 "nbformat_minor": 2
}
