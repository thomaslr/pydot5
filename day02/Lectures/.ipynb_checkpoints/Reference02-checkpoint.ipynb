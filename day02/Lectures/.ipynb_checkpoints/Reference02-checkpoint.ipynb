{
 "cells": [
  {
   "cell_type": "code",
   "execution_count": 4,
   "metadata": {},
   "outputs": [
    {
     "name": "stdout",
     "output_type": "stream",
     "text": [
      "jhon\n",
      "('bala', 'hello')\n"
     ]
    }
   ],
   "source": [
    "my_name  = \"jhon\"\n",
    "print (my_name)\n",
    "\n",
    "print ( \"bala\" , \"hello\" )"
   ]
  },
  {
   "cell_type": "code",
   "execution_count": 6,
   "metadata": {},
   "outputs": [
    {
     "name": "stdout",
     "output_type": "stream",
     "text": [
      "STATIC TEXT\n",
      "STATIC TEXT\n"
     ]
    }
   ],
   "source": [
    "\n",
    "# def function_name ():\n",
    "    #CODE FOR THE FUNCTION\n",
    "    #return somthing\n",
    "    \n",
    "def print_me():\n",
    "    print (\"STATIC TEXT\")\n",
    "    print (\"STATIC TEXT\")\n",
    "    \n",
    "\n",
    "print_me()"
   ]
  },
  {
   "cell_type": "code",
   "execution_count": 11,
   "metadata": {},
   "outputs": [
    {
     "name": "stdout",
     "output_type": "stream",
     "text": [
      "bala\n",
      "bala\n"
     ]
    }
   ],
   "source": [
    "#MODIFY THE FUNCTION, TO TAKE AN ARGUMENT AND PRINTS THAT USING PRINT FUNCTION\n",
    "def print_me(my_name):\n",
    "    print (my_name)\n",
    "    print (my_name)\n",
    "\n",
    "print_me(\"bala\")"
   ]
  },
  {
   "cell_type": "code",
   "execution_count": 15,
   "metadata": {},
   "outputs": [
    {
     "name": "stdout",
     "output_type": "stream",
     "text": [
      "NAME: 20 and age: bala\n",
      "NAME: 20 and age: bala\n"
     ]
    }
   ],
   "source": [
    "def print_me(my_name, age):\n",
    "    print ( \"NAME: %s and age: %s\" % (my_name, age) )\n",
    "    print ( \"NAME: {} and age: {}\".format(my_name, age) )\n",
    "    \n",
    "print_me(age=20, my_name=\"bala\")"
   ]
  },
  {
   "cell_type": "code",
   "execution_count": 26,
   "metadata": {
    "collapsed": true
   },
   "outputs": [],
   "source": [
    "def print_me(my_name, age):\n",
    "    '''\n",
    "    THIS IS A FUNCTION THAT TAKES TWO INPUTS\n",
    "    USAGE:\n",
    "    print_me(my_name=\"somethig\", age=25)\n",
    "    '''\n",
    "    print ( \"NAME: %s and age: %s\" % (my_name, age) )\n",
    "    print ( \"NAME: {} and age: {}\".format(my_name, age) )\n"
   ]
  },
  {
   "cell_type": "code",
   "execution_count": 20,
   "metadata": {},
   "outputs": [
    {
     "name": "stdout",
     "output_type": "stream",
     "text": [
      "NAME: bala and age: 20\n",
      "NAME: bala and age: 20\n"
     ]
    }
   ],
   "source": [
    "print_me(my_name=\"bala\", age=20)"
   ]
  },
  {
   "cell_type": "code",
   "execution_count": 27,
   "metadata": {
    "collapsed": true
   },
   "outputs": [],
   "source": [
    "def print_me(my_name, age):\n",
    "    '''\n",
    "    THIS IS A FUNCTION THAT TAKES TWO INPUTS\n",
    "    USAGE:\n",
    "    print_me(my_name=\"somethig\", age=25)\n",
    "    '''\n",
    "    #print ( \"NAME: %s and age: %s\" % (my_name, age) )\n",
    "    for i in range(2):\n",
    "        print ( \"NAME: {} and age: {}\".format(my_name, age) )\n",
    "    "
   ]
  },
  {
   "cell_type": "code",
   "execution_count": 28,
   "metadata": {},
   "outputs": [
    {
     "name": "stdout",
     "output_type": "stream",
     "text": [
      "NAME: bala and age: 20\n",
      "NAME: bala and age: 20\n"
     ]
    }
   ],
   "source": [
    "print_me(my_name=\"bala\", age=20)"
   ]
  },
  {
   "cell_type": "code",
   "execution_count": 31,
   "metadata": {
    "collapsed": true
   },
   "outputs": [],
   "source": [
    "def print_me(my_name, age, repeat_count):\n",
    "    '''\n",
    "    THIS IS A FUNCTION THAT TAKES TWO INPUTS\n",
    "    USAGE:\n",
    "    print_me(my_name=\"somethig\", age=25)\n",
    "    '''\n",
    "    for _ in range(repeat_count):\n",
    "        print ( \"NAME: {} and age: {}\".format(my_name, age) )\n",
    "    "
   ]
  },
  {
   "cell_type": "code",
   "execution_count": 30,
   "metadata": {},
   "outputs": [
    {
     "name": "stdout",
     "output_type": "stream",
     "text": [
      "NAME: bala and age: 20\n",
      "NAME: bala and age: 20\n",
      "NAME: bala and age: 20\n",
      "NAME: bala and age: 20\n",
      "NAME: bala and age: 20\n",
      "NAME: bala and age: 20\n",
      "NAME: bala and age: 20\n",
      "NAME: bala and age: 20\n",
      "NAME: bala and age: 20\n",
      "NAME: bala and age: 20\n"
     ]
    }
   ],
   "source": [
    "#print_me(my_name=\"bala\", age=20, repeat_count=10)\n",
    "\n",
    "print_me(\"bala\", 20, 10)"
   ]
  },
  {
   "cell_type": "code",
   "execution_count": 33,
   "metadata": {
    "collapsed": true
   },
   "outputs": [],
   "source": [
    "# RETURN VALUE FROM FUNCTION"
   ]
  },
  {
   "cell_type": "code",
   "execution_count": 34,
   "metadata": {},
   "outputs": [
    {
     "name": "stdout",
     "output_type": "stream",
     "text": [
      "NAME: bala and age: 20\n"
     ]
    }
   ],
   "source": [
    "def print_me(my_name, age):\n",
    "    return  \"NAME: {} and age: {}\".format(my_name, age)\n",
    "\n",
    "formated_string = print_me(\"bala\", 20)\n",
    "print (formated_string)"
   ]
  },
  {
   "cell_type": "code",
   "execution_count": 40,
   "metadata": {},
   "outputs": [
    {
     "name": "stdout",
     "output_type": "stream",
     "text": [
      "39\n"
     ]
    }
   ],
   "source": [
    "def add (num1, num2 ):\n",
    "    total =  num1 + num2\n",
    "    return total\n",
    "\n",
    "result1 = add(10,20)\n",
    "result2 = add(4,5)\n",
    "\n",
    "value = add ( result1 , result2 )\n",
    "\n",
    "print (value)"
   ]
  },
  {
   "cell_type": "code",
   "execution_count": 41,
   "metadata": {},
   "outputs": [
    {
     "ename": "TypeError",
     "evalue": "cannot concatenate 'str' and 'int' objects",
     "output_type": "error",
     "traceback": [
      "\u001b[0;31m\u001b[0m",
      "\u001b[0;31mTypeError\u001b[0mTraceback (most recent call last)",
      "\u001b[0;32m<ipython-input-41-55ad501f6a80>\u001b[0m in \u001b[0;36m<module>\u001b[0;34m()\u001b[0m\n\u001b[1;32m      2\u001b[0m     \u001b[0;32mreturn\u001b[0m  \u001b[0;34m\"NAME:\"\u001b[0m \u001b[0;34m+\u001b[0m \u001b[0mmy_name\u001b[0m \u001b[0;34m+\u001b[0m   \u001b[0;34m\"and age: \"\u001b[0m \u001b[0;34m+\u001b[0m \u001b[0mage\u001b[0m\u001b[0;34m\u001b[0m\u001b[0m\n\u001b[1;32m      3\u001b[0m \u001b[0;34m\u001b[0m\u001b[0m\n\u001b[0;32m----> 4\u001b[0;31m \u001b[0mformated_string\u001b[0m \u001b[0;34m=\u001b[0m \u001b[0mprint_me\u001b[0m\u001b[0;34m(\u001b[0m\u001b[0;34m\"bala\"\u001b[0m\u001b[0;34m,\u001b[0m \u001b[0;36m20\u001b[0m\u001b[0;34m)\u001b[0m\u001b[0;34m\u001b[0m\u001b[0m\n\u001b[0m\u001b[1;32m      5\u001b[0m \u001b[0;32mprint\u001b[0m \u001b[0;34m(\u001b[0m\u001b[0mformated_string\u001b[0m\u001b[0;34m)\u001b[0m\u001b[0;34m\u001b[0m\u001b[0m\n",
      "\u001b[0;32m<ipython-input-41-55ad501f6a80>\u001b[0m in \u001b[0;36mprint_me\u001b[0;34m(my_name, age)\u001b[0m\n\u001b[1;32m      1\u001b[0m \u001b[0;32mdef\u001b[0m \u001b[0mprint_me\u001b[0m\u001b[0;34m(\u001b[0m\u001b[0mmy_name\u001b[0m\u001b[0;34m,\u001b[0m \u001b[0mage\u001b[0m\u001b[0;34m)\u001b[0m\u001b[0;34m:\u001b[0m\u001b[0;34m\u001b[0m\u001b[0m\n\u001b[0;32m----> 2\u001b[0;31m     \u001b[0;32mreturn\u001b[0m  \u001b[0;34m\"NAME:\"\u001b[0m \u001b[0;34m+\u001b[0m \u001b[0mmy_name\u001b[0m \u001b[0;34m+\u001b[0m   \u001b[0;34m\"and age: \"\u001b[0m \u001b[0;34m+\u001b[0m \u001b[0mage\u001b[0m\u001b[0;34m\u001b[0m\u001b[0m\n\u001b[0m\u001b[1;32m      3\u001b[0m \u001b[0;34m\u001b[0m\u001b[0m\n\u001b[1;32m      4\u001b[0m \u001b[0mformated_string\u001b[0m \u001b[0;34m=\u001b[0m \u001b[0mprint_me\u001b[0m\u001b[0;34m(\u001b[0m\u001b[0;34m\"bala\"\u001b[0m\u001b[0;34m,\u001b[0m \u001b[0;36m20\u001b[0m\u001b[0;34m)\u001b[0m\u001b[0;34m\u001b[0m\u001b[0m\n\u001b[1;32m      5\u001b[0m \u001b[0;32mprint\u001b[0m \u001b[0;34m(\u001b[0m\u001b[0mformated_string\u001b[0m\u001b[0;34m)\u001b[0m\u001b[0;34m\u001b[0m\u001b[0m\n",
      "\u001b[0;31mTypeError\u001b[0m: cannot concatenate 'str' and 'int' objects"
     ]
    }
   ],
   "source": [
    "def print_me(my_name, age):\n",
    "    return  \"NAME:\" + my_name +   \"and age: \" + str(age)\n",
    "\n",
    "formated_string = print_me(\"bala\", 20)\n",
    "print (formated_string)"
   ]
  },
  {
   "cell_type": "code",
   "execution_count": 42,
   "metadata": {},
   "outputs": [
    {
     "name": "stdout",
     "output_type": "stream",
     "text": [
      "Help on class str in module __builtin__:\n",
      "\n",
      "class str(basestring)\n",
      " |  str(object='') -> string\n",
      " |  \n",
      " |  Return a nice string representation of the object.\n",
      " |  If the argument is a string, the return value is the same object.\n",
      " |  \n",
      " |  Method resolution order:\n",
      " |      str\n",
      " |      basestring\n",
      " |      object\n",
      " |  \n",
      " |  Methods defined here:\n",
      " |  \n",
      " |  __add__(...)\n",
      " |      x.__add__(y) <==> x+y\n",
      " |  \n",
      " |  __contains__(...)\n",
      " |      x.__contains__(y) <==> y in x\n",
      " |  \n",
      " |  __eq__(...)\n",
      " |      x.__eq__(y) <==> x==y\n",
      " |  \n",
      " |  __format__(...)\n",
      " |      S.__format__(format_spec) -> string\n",
      " |      \n",
      " |      Return a formatted version of S as described by format_spec.\n",
      " |  \n",
      " |  __ge__(...)\n",
      " |      x.__ge__(y) <==> x>=y\n",
      " |  \n",
      " |  __getattribute__(...)\n",
      " |      x.__getattribute__('name') <==> x.name\n",
      " |  \n",
      " |  __getitem__(...)\n",
      " |      x.__getitem__(y) <==> x[y]\n",
      " |  \n",
      " |  __getnewargs__(...)\n",
      " |  \n",
      " |  __getslice__(...)\n",
      " |      x.__getslice__(i, j) <==> x[i:j]\n",
      " |      \n",
      " |      Use of negative indices is not supported.\n",
      " |  \n",
      " |  __gt__(...)\n",
      " |      x.__gt__(y) <==> x>y\n",
      " |  \n",
      " |  __hash__(...)\n",
      " |      x.__hash__() <==> hash(x)\n",
      " |  \n",
      " |  __le__(...)\n",
      " |      x.__le__(y) <==> x<=y\n",
      " |  \n",
      " |  __len__(...)\n",
      " |      x.__len__() <==> len(x)\n",
      " |  \n",
      " |  __lt__(...)\n",
      " |      x.__lt__(y) <==> x<y\n",
      " |  \n",
      " |  __mod__(...)\n",
      " |      x.__mod__(y) <==> x%y\n",
      " |  \n",
      " |  __mul__(...)\n",
      " |      x.__mul__(n) <==> x*n\n",
      " |  \n",
      " |  __ne__(...)\n",
      " |      x.__ne__(y) <==> x!=y\n",
      " |  \n",
      " |  __repr__(...)\n",
      " |      x.__repr__() <==> repr(x)\n",
      " |  \n",
      " |  __rmod__(...)\n",
      " |      x.__rmod__(y) <==> y%x\n",
      " |  \n",
      " |  __rmul__(...)\n",
      " |      x.__rmul__(n) <==> n*x\n",
      " |  \n",
      " |  __sizeof__(...)\n",
      " |      S.__sizeof__() -> size of S in memory, in bytes\n",
      " |  \n",
      " |  __str__(...)\n",
      " |      x.__str__() <==> str(x)\n",
      " |  \n",
      " |  capitalize(...)\n",
      " |      S.capitalize() -> string\n",
      " |      \n",
      " |      Return a copy of the string S with only its first character\n",
      " |      capitalized.\n",
      " |  \n",
      " |  center(...)\n",
      " |      S.center(width[, fillchar]) -> string\n",
      " |      \n",
      " |      Return S centered in a string of length width. Padding is\n",
      " |      done using the specified fill character (default is a space)\n",
      " |  \n",
      " |  count(...)\n",
      " |      S.count(sub[, start[, end]]) -> int\n",
      " |      \n",
      " |      Return the number of non-overlapping occurrences of substring sub in\n",
      " |      string S[start:end].  Optional arguments start and end are interpreted\n",
      " |      as in slice notation.\n",
      " |  \n",
      " |  decode(...)\n",
      " |      S.decode([encoding[,errors]]) -> object\n",
      " |      \n",
      " |      Decodes S using the codec registered for encoding. encoding defaults\n",
      " |      to the default encoding. errors may be given to set a different error\n",
      " |      handling scheme. Default is 'strict' meaning that encoding errors raise\n",
      " |      a UnicodeDecodeError. Other possible values are 'ignore' and 'replace'\n",
      " |      as well as any other name registered with codecs.register_error that is\n",
      " |      able to handle UnicodeDecodeErrors.\n",
      " |  \n",
      " |  encode(...)\n",
      " |      S.encode([encoding[,errors]]) -> object\n",
      " |      \n",
      " |      Encodes S using the codec registered for encoding. encoding defaults\n",
      " |      to the default encoding. errors may be given to set a different error\n",
      " |      handling scheme. Default is 'strict' meaning that encoding errors raise\n",
      " |      a UnicodeEncodeError. Other possible values are 'ignore', 'replace' and\n",
      " |      'xmlcharrefreplace' as well as any other name registered with\n",
      " |      codecs.register_error that is able to handle UnicodeEncodeErrors.\n",
      " |  \n",
      " |  endswith(...)\n",
      " |      S.endswith(suffix[, start[, end]]) -> bool\n",
      " |      \n",
      " |      Return True if S ends with the specified suffix, False otherwise.\n",
      " |      With optional start, test S beginning at that position.\n",
      " |      With optional end, stop comparing S at that position.\n",
      " |      suffix can also be a tuple of strings to try.\n",
      " |  \n",
      " |  expandtabs(...)\n",
      " |      S.expandtabs([tabsize]) -> string\n",
      " |      \n",
      " |      Return a copy of S where all tab characters are expanded using spaces.\n",
      " |      If tabsize is not given, a tab size of 8 characters is assumed.\n",
      " |  \n",
      " |  find(...)\n",
      " |      S.find(sub [,start [,end]]) -> int\n",
      " |      \n",
      " |      Return the lowest index in S where substring sub is found,\n",
      " |      such that sub is contained within S[start:end].  Optional\n",
      " |      arguments start and end are interpreted as in slice notation.\n",
      " |      \n",
      " |      Return -1 on failure.\n",
      " |  \n",
      " |  format(...)\n",
      " |      S.format(*args, **kwargs) -> string\n",
      " |      \n",
      " |      Return a formatted version of S, using substitutions from args and kwargs.\n",
      " |      The substitutions are identified by braces ('{' and '}').\n",
      " |  \n",
      " |  index(...)\n",
      " |      S.index(sub [,start [,end]]) -> int\n",
      " |      \n",
      " |      Like S.find() but raise ValueError when the substring is not found.\n",
      " |  \n",
      " |  isalnum(...)\n",
      " |      S.isalnum() -> bool\n",
      " |      \n",
      " |      Return True if all characters in S are alphanumeric\n",
      " |      and there is at least one character in S, False otherwise.\n",
      " |  \n",
      " |  isalpha(...)\n",
      " |      S.isalpha() -> bool\n",
      " |      \n",
      " |      Return True if all characters in S are alphabetic\n",
      " |      and there is at least one character in S, False otherwise.\n",
      " |  \n",
      " |  isdigit(...)\n",
      " |      S.isdigit() -> bool\n",
      " |      \n",
      " |      Return True if all characters in S are digits\n",
      " |      and there is at least one character in S, False otherwise.\n",
      " |  \n",
      " |  islower(...)\n",
      " |      S.islower() -> bool\n",
      " |      \n",
      " |      Return True if all cased characters in S are lowercase and there is\n",
      " |      at least one cased character in S, False otherwise.\n",
      " |  \n",
      " |  isspace(...)\n",
      " |      S.isspace() -> bool\n",
      " |      \n",
      " |      Return True if all characters in S are whitespace\n",
      " |      and there is at least one character in S, False otherwise.\n",
      " |  \n",
      " |  istitle(...)\n",
      " |      S.istitle() -> bool\n",
      " |      \n",
      " |      Return True if S is a titlecased string and there is at least one\n",
      " |      character in S, i.e. uppercase characters may only follow uncased\n",
      " |      characters and lowercase characters only cased ones. Return False\n",
      " |      otherwise.\n",
      " |  \n",
      " |  isupper(...)\n",
      " |      S.isupper() -> bool\n",
      " |      \n",
      " |      Return True if all cased characters in S are uppercase and there is\n",
      " |      at least one cased character in S, False otherwise.\n",
      " |  \n",
      " |  join(...)\n",
      " |      S.join(iterable) -> string\n",
      " |      \n",
      " |      Return a string which is the concatenation of the strings in the\n",
      " |      iterable.  The separator between elements is S.\n",
      " |  \n",
      " |  ljust(...)\n",
      " |      S.ljust(width[, fillchar]) -> string\n",
      " |      \n",
      " |      Return S left-justified in a string of length width. Padding is\n",
      " |      done using the specified fill character (default is a space).\n",
      " |  \n",
      " |  lower(...)\n",
      " |      S.lower() -> string\n",
      " |      \n",
      " |      Return a copy of the string S converted to lowercase.\n",
      " |  \n",
      " |  lstrip(...)\n",
      " |      S.lstrip([chars]) -> string or unicode\n",
      " |      \n",
      " |      Return a copy of the string S with leading whitespace removed.\n",
      " |      If chars is given and not None, remove characters in chars instead.\n",
      " |      If chars is unicode, S will be converted to unicode before stripping\n",
      " |  \n",
      " |  partition(...)\n",
      " |      S.partition(sep) -> (head, sep, tail)\n",
      " |      \n",
      " |      Search for the separator sep in S, and return the part before it,\n",
      " |      the separator itself, and the part after it.  If the separator is not\n",
      " |      found, return S and two empty strings.\n",
      " |  \n",
      " |  replace(...)\n",
      " |      S.replace(old, new[, count]) -> string\n",
      " |      \n",
      " |      Return a copy of string S with all occurrences of substring\n",
      " |      old replaced by new.  If the optional argument count is\n",
      " |      given, only the first count occurrences are replaced.\n",
      " |  \n",
      " |  rfind(...)\n",
      " |      S.rfind(sub [,start [,end]]) -> int\n",
      " |      \n",
      " |      Return the highest index in S where substring sub is found,\n",
      " |      such that sub is contained within S[start:end].  Optional\n",
      " |      arguments start and end are interpreted as in slice notation.\n",
      " |      \n",
      " |      Return -1 on failure.\n",
      " |  \n",
      " |  rindex(...)\n",
      " |      S.rindex(sub [,start [,end]]) -> int\n",
      " |      \n",
      " |      Like S.rfind() but raise ValueError when the substring is not found.\n",
      " |  \n",
      " |  rjust(...)\n",
      " |      S.rjust(width[, fillchar]) -> string\n",
      " |      \n",
      " |      Return S right-justified in a string of length width. Padding is\n",
      " |      done using the specified fill character (default is a space)\n",
      " |  \n",
      " |  rpartition(...)\n",
      " |      S.rpartition(sep) -> (head, sep, tail)\n",
      " |      \n",
      " |      Search for the separator sep in S, starting at the end of S, and return\n",
      " |      the part before it, the separator itself, and the part after it.  If the\n",
      " |      separator is not found, return two empty strings and S.\n",
      " |  \n",
      " |  rsplit(...)\n",
      " |      S.rsplit([sep [,maxsplit]]) -> list of strings\n",
      " |      \n",
      " |      Return a list of the words in the string S, using sep as the\n",
      " |      delimiter string, starting at the end of the string and working\n",
      " |      to the front.  If maxsplit is given, at most maxsplit splits are\n",
      " |      done. If sep is not specified or is None, any whitespace string\n",
      " |      is a separator.\n",
      " |  \n",
      " |  rstrip(...)\n",
      " |      S.rstrip([chars]) -> string or unicode\n",
      " |      \n",
      " |      Return a copy of the string S with trailing whitespace removed.\n",
      " |      If chars is given and not None, remove characters in chars instead.\n",
      " |      If chars is unicode, S will be converted to unicode before stripping\n",
      " |  \n",
      " |  split(...)\n",
      " |      S.split([sep [,maxsplit]]) -> list of strings\n",
      " |      \n",
      " |      Return a list of the words in the string S, using sep as the\n",
      " |      delimiter string.  If maxsplit is given, at most maxsplit\n",
      " |      splits are done. If sep is not specified or is None, any\n",
      " |      whitespace string is a separator and empty strings are removed\n",
      " |      from the result.\n",
      " |  \n",
      " |  splitlines(...)\n",
      " |      S.splitlines(keepends=False) -> list of strings\n",
      " |      \n",
      " |      Return a list of the lines in S, breaking at line boundaries.\n",
      " |      Line breaks are not included in the resulting list unless keepends\n",
      " |      is given and true.\n",
      " |  \n",
      " |  startswith(...)\n",
      " |      S.startswith(prefix[, start[, end]]) -> bool\n",
      " |      \n",
      " |      Return True if S starts with the specified prefix, False otherwise.\n",
      " |      With optional start, test S beginning at that position.\n",
      " |      With optional end, stop comparing S at that position.\n",
      " |      prefix can also be a tuple of strings to try.\n",
      " |  \n",
      " |  strip(...)\n",
      " |      S.strip([chars]) -> string or unicode\n",
      " |      \n",
      " |      Return a copy of the string S with leading and trailing\n",
      " |      whitespace removed.\n",
      " |      If chars is given and not None, remove characters in chars instead.\n",
      " |      If chars is unicode, S will be converted to unicode before stripping\n",
      " |  \n",
      " |  swapcase(...)\n",
      " |      S.swapcase() -> string\n",
      " |      \n",
      " |      Return a copy of the string S with uppercase characters\n",
      " |      converted to lowercase and vice versa.\n",
      " |  \n",
      " |  title(...)\n",
      " |      S.title() -> string\n",
      " |      \n",
      " |      Return a titlecased version of S, i.e. words start with uppercase\n",
      " |      characters, all remaining cased characters have lowercase.\n",
      " |  \n",
      " |  translate(...)\n",
      " |      S.translate(table [,deletechars]) -> string\n",
      " |      \n",
      " |      Return a copy of the string S, where all characters occurring\n",
      " |      in the optional argument deletechars are removed, and the\n",
      " |      remaining characters have been mapped through the given\n",
      " |      translation table, which must be a string of length 256 or None.\n",
      " |      If the table argument is None, no translation is applied and\n",
      " |      the operation simply removes the characters in deletechars.\n",
      " |  \n",
      " |  upper(...)\n",
      " |      S.upper() -> string\n",
      " |      \n",
      " |      Return a copy of the string S converted to uppercase.\n",
      " |  \n",
      " |  zfill(...)\n",
      " |      S.zfill(width) -> string\n",
      " |      \n",
      " |      Pad a numeric string S with zeros on the left, to fill a field\n",
      " |      of the specified width.  The string S is never truncated.\n",
      " |  \n",
      " |  ----------------------------------------------------------------------\n",
      " |  Data and other attributes defined here:\n",
      " |  \n",
      " |  __new__ = <built-in method __new__ of type object>\n",
      " |      T.__new__(S, ...) -> a new object with type S, a subtype of T\n",
      "\n"
     ]
    }
   ],
   "source": [
    "help(str)"
   ]
  },
  {
   "cell_type": "code",
   "execution_count": 56,
   "metadata": {},
   "outputs": [
    {
     "name": "stdout",
     "output_type": "stream",
     "text": [
      "i 0 = \u0000 \n",
      "i 1 = \u0001 \n",
      "i 2 = \u0002 \n",
      "i 3 = \u0003 \n",
      "i 4 = \u0004 \n",
      "i 5 = \u0005 \n",
      "i 6 = \u0006 \n",
      "i 7 = \u0007 \n",
      "i 8 = \b \n",
      "i 9 = \t \n",
      "i 10 = \n",
      " \n",
      "i 11 = \u000b",
      " \n",
      "i 12 = \f",
      " \n",
      "i 13 = \r",
      " \n",
      "i 14 = \u000e \n",
      "i 15 = \u000f \n",
      "i 16 = \u0010 \n",
      "i 17 = \u0011 \n",
      "i 18 = \u0012 \n",
      "i 19 = \u0013 \n",
      "i 20 = \u0014 \n",
      "i 21 = \u0015 \n",
      "i 22 = \u0016 \n",
      "i 23 = \u0017 \n",
      "i 24 = \u0018 \n",
      "i 25 = \u0019 \n",
      "i 26 = \u001a \n",
      "i 27 = \u001b \n",
      "i 28 = \u001c",
      " \n",
      "i 29 = \u001d",
      " \n",
      "i 30 = \u001e",
      " \n",
      "i 31 = \u001f \n",
      "i 32 =   \n",
      "i 33 = ! \n",
      "i 34 = \" \n",
      "i 35 = # \n",
      "i 36 = $ \n",
      "i 37 = % \n",
      "i 38 = & \n",
      "i 39 = ' \n",
      "i 40 = ( \n",
      "i 41 = ) \n",
      "i 42 = * \n",
      "i 43 = + \n",
      "i 44 = , \n",
      "i 45 = - \n",
      "i 46 = . \n",
      "i 47 = / \n",
      "i 48 = 0 \n",
      "i 49 = 1 \n",
      "i 50 = 2 \n",
      "i 51 = 3 \n",
      "i 52 = 4 \n",
      "i 53 = 5 \n",
      "i 54 = 6 \n",
      "i 55 = 7 \n",
      "i 56 = 8 \n",
      "i 57 = 9 \n",
      "i 58 = : \n",
      "i 59 = ; \n",
      "i 60 = < \n",
      "i 61 = = \n",
      "i 62 = > \n",
      "i 63 = ? \n",
      "i 64 = @ \n",
      "i 65 = A \n",
      "i 66 = B \n",
      "i 67 = C \n",
      "i 68 = D \n",
      "i 69 = E \n",
      "i 70 = F \n",
      "i 71 = G \n",
      "i 72 = H \n",
      "i 73 = I \n",
      "i 74 = J \n",
      "i 75 = K \n",
      "i 76 = L \n",
      "i 77 = M \n",
      "i 78 = N \n",
      "i 79 = O \n",
      "i 80 = P \n",
      "i 81 = Q \n",
      "i 82 = R \n",
      "i 83 = S \n",
      "i 84 = T \n",
      "i 85 = U \n",
      "i 86 = V \n",
      "i 87 = W \n",
      "i 88 = X \n",
      "i 89 = Y \n",
      "i 90 = Z \n",
      "i 91 = [ \n",
      "i 92 = \\ \n",
      "i 93 = ] \n",
      "i 94 = ^ \n",
      "i 95 = _ \n",
      "i 96 = ` \n",
      "i 97 = a \n",
      "i 98 = b \n",
      "i 99 = c \n"
     ]
    }
   ],
   "source": [
    "for i in range(100):\n",
    "    print \"i %s = %s \" % (i, chr(i))"
   ]
  },
  {
   "cell_type": "markdown",
   "metadata": {
    "collapsed": true
   },
   "source": [
    "### With Return Values\n",
    "\n",
    "*Example*\n",
    "```python\n",
    "def function_with_return (input1, input2):\n",
    "    #block of reusable code\n",
    "    return input1 + input2\n",
    "```\n",
    "This function takes in two inputs and returns the sum of the two inputs.\n",
    "\n",
    "**Exercise**\n",
    "- Write a new function \"search_flights\" which takes in one input called \"destination\"\n",
    "- Inside the function:\n",
    "- 1. Write an If statement to return \"Please enter the correct airport code\" if len(destination) is more than or less than 3\n",
    " 2. Write an Elif statement to return \"Your destination is Tokyo Narita Airport.\" if destination is \"NRT\"\n",
    " 3. Write an Else statement to return \"Sorry, we do not fly to your intended destination currently.\"\n",
    "- Declare a new variable \"search_results\" and assign to it \"search_flight(\"desination_input\")\" \n",
    "- Print out \"search_results\""
   ]
  },
  {
   "cell_type": "code",
   "execution_count": 69,
   "metadata": {},
   "outputs": [
    {
     "ename": "KeyboardInterrupt",
     "evalue": "",
     "output_type": "error",
     "traceback": [
      "\u001b[0;31m\u001b[0m",
      "\u001b[0;31mKeyboardInterrupt\u001b[0mTraceback (most recent call last)",
      "\u001b[0;32m<ipython-input-69-729ddd85ae04>\u001b[0m in \u001b[0;36m<module>\u001b[0;34m()\u001b[0m\n\u001b[0;32m----> 1\u001b[0;31m \u001b[0mdest\u001b[0m \u001b[0;34m=\u001b[0m \u001b[0mraw_input\u001b[0m\u001b[0;34m(\u001b[0m\u001b[0;34m'Enter your name: '\u001b[0m\u001b[0;34m)\u001b[0m\u001b[0;34m\u001b[0m\u001b[0m\n\u001b[0m\u001b[1;32m      2\u001b[0m \u001b[0;34m\u001b[0m\u001b[0m\n\u001b[1;32m      3\u001b[0m \u001b[0;31m#Write a new function \"search_flights\" which takes in one input called \"destination\"\u001b[0m\u001b[0;34m\u001b[0m\u001b[0;34m\u001b[0m\u001b[0m\n\u001b[1;32m      4\u001b[0m \u001b[0;34m\u001b[0m\u001b[0m\n\u001b[1;32m      5\u001b[0m \u001b[0;32mdef\u001b[0m \u001b[0msearch_flights\u001b[0m\u001b[0;34m(\u001b[0m\u001b[0mdestination\u001b[0m\u001b[0;34m)\u001b[0m\u001b[0;34m:\u001b[0m\u001b[0;34m\u001b[0m\u001b[0m\n",
      "\u001b[0;32m/usr/local/lib/python2.7/dist-packages/ipykernel/kernelbase.pyc\u001b[0m in \u001b[0;36mraw_input\u001b[0;34m(self, prompt)\u001b[0m\n\u001b[1;32m    703\u001b[0m             \u001b[0mself\u001b[0m\u001b[0;34m.\u001b[0m\u001b[0m_parent_ident\u001b[0m\u001b[0;34m,\u001b[0m\u001b[0;34m\u001b[0m\u001b[0m\n\u001b[1;32m    704\u001b[0m             \u001b[0mself\u001b[0m\u001b[0;34m.\u001b[0m\u001b[0m_parent_header\u001b[0m\u001b[0;34m,\u001b[0m\u001b[0;34m\u001b[0m\u001b[0m\n\u001b[0;32m--> 705\u001b[0;31m             \u001b[0mpassword\u001b[0m\u001b[0;34m=\u001b[0m\u001b[0mFalse\u001b[0m\u001b[0;34m,\u001b[0m\u001b[0;34m\u001b[0m\u001b[0m\n\u001b[0m\u001b[1;32m    706\u001b[0m         )\n\u001b[1;32m    707\u001b[0m \u001b[0;34m\u001b[0m\u001b[0m\n",
      "\u001b[0;32m/usr/local/lib/python2.7/dist-packages/ipykernel/kernelbase.pyc\u001b[0m in \u001b[0;36m_input_request\u001b[0;34m(self, prompt, ident, parent, password)\u001b[0m\n\u001b[1;32m    733\u001b[0m             \u001b[0;32mexcept\u001b[0m \u001b[0mKeyboardInterrupt\u001b[0m\u001b[0;34m:\u001b[0m\u001b[0;34m\u001b[0m\u001b[0m\n\u001b[1;32m    734\u001b[0m                 \u001b[0;31m# re-raise KeyboardInterrupt, to truncate traceback\u001b[0m\u001b[0;34m\u001b[0m\u001b[0;34m\u001b[0m\u001b[0m\n\u001b[0;32m--> 735\u001b[0;31m                 \u001b[0;32mraise\u001b[0m \u001b[0mKeyboardInterrupt\u001b[0m\u001b[0;34m\u001b[0m\u001b[0m\n\u001b[0m\u001b[1;32m    736\u001b[0m             \u001b[0;32melse\u001b[0m\u001b[0;34m:\u001b[0m\u001b[0;34m\u001b[0m\u001b[0m\n\u001b[1;32m    737\u001b[0m                 \u001b[0;32mbreak\u001b[0m\u001b[0;34m\u001b[0m\u001b[0m\n",
      "\u001b[0;31mKeyboardInterrupt\u001b[0m: "
     ]
    }
   ],
   "source": [
    "dest = raw_input('Enter your name: ')\n",
    "\n",
    "#Write a new function \"search_flights\" which takes in one input called \"destination\"\n",
    "\n",
    "def search_flights(destination):\n",
    "    \n",
    "    if (len(destination) > 3) or (len(destination) < 3):\n",
    "        return \"Please enter the correct airport code\"\n",
    "    elif destination == \"NRT\":\n",
    "        return \"Your destination is Tokyo Narita Airport.\"\n",
    "    else:\n",
    "        return \"Sorry, we do not fly to your intended destination currently.\"\n",
    "    \n",
    "\n",
    "search_results = search_flights(dest)\n",
    "print (search_results)"
   ]
  },
  {
   "cell_type": "code",
   "execution_count": 63,
   "metadata": {},
   "outputs": [
    {
     "data": {
      "text/plain": [
       "4"
      ]
     },
     "execution_count": 63,
     "metadata": {},
     "output_type": "execute_result"
    }
   ],
   "source": [
    " len(\"AAAA\")"
   ]
  },
  {
   "cell_type": "code",
   "execution_count": 83,
   "metadata": {},
   "outputs": [
    {
     "name": "stdout",
     "output_type": "stream",
     "text": [
      "([1, 1, 3], 'bala')\n"
     ]
    }
   ],
   "source": [
    "def hello(name):\n",
    "    return ([1,2,3] , name)\n",
    "\n",
    "result = hello(\"bala\")\n",
    "#len(result)\n",
    "result[0][1] = 1\n",
    "# print (result[0])\n",
    "print(result)"
   ]
  },
  {
   "cell_type": "code",
   "execution_count": 72,
   "metadata": {},
   "outputs": [
    {
     "name": "stdout",
     "output_type": "stream",
     "text": [
      "Haiabc\n"
     ]
    }
   ],
   "source": [
    "duplicate_funcation(\"abc\")"
   ]
  },
  {
   "cell_type": "code",
   "execution_count": 88,
   "metadata": {},
   "outputs": [
    {
     "ename": "TypeError",
     "evalue": "'str' object does not support item assignment",
     "output_type": "error",
     "traceback": [
      "\u001b[0;31m\u001b[0m",
      "\u001b[0;31mTypeError\u001b[0mTraceback (most recent call last)",
      "\u001b[0;32m<ipython-input-88-5b4f9a42b769>\u001b[0m in \u001b[0;36m<module>\u001b[0;34m()\u001b[0m\n\u001b[1;32m      1\u001b[0m \u001b[0mname\u001b[0m  \u001b[0;34m=\u001b[0m \u001b[0;34m\"abc\"\u001b[0m\u001b[0;34m\u001b[0m\u001b[0m\n\u001b[0;32m----> 2\u001b[0;31m \u001b[0mname\u001b[0m\u001b[0;34m[\u001b[0m\u001b[0;36m1\u001b[0m\u001b[0;34m]\u001b[0m \u001b[0;34m=\u001b[0m \u001b[0;34m\"d\"\u001b[0m\u001b[0;34m\u001b[0m\u001b[0m\n\u001b[0m",
      "\u001b[0;31mTypeError\u001b[0m: 'str' object does not support item assignment"
     ]
    }
   ],
   "source": [
    "name  = \"abc\"\n",
    "name[1] = \"d\""
   ]
  },
  {
   "cell_type": "code",
   "execution_count": 91,
   "metadata": {},
   "outputs": [
    {
     "name": "stdout",
     "output_type": "stream",
     "text": [
      "JOON NOT FOUND\n",
      "JOON IS FOUND\n",
      "JOON NOT FOUND\n"
     ]
    }
   ],
   "source": [
    "list_1 = [\"bala\", \"joon\", \"ngoc\"]\n",
    "\n",
    "\n",
    "for item in list_1:\n",
    "    if item == \"joon\":\n",
    "        print (\"JOON IS FOUND\")\n",
    "    else:\n",
    "        print (\"JOON NOT FOUND\")\n"
   ]
  },
  {
   "cell_type": "code",
   "execution_count": 101,
   "metadata": {},
   "outputs": [
    {
     "name": "stdout",
     "output_type": "stream",
     "text": [
      "{'windows': 6, 'color': 'red', 'doors': 3}\n"
     ]
    }
   ],
   "source": [
    "mylist = [1,2,3]\n",
    "house = { \n",
    "            \"windows\" :  6,\n",
    "            \"color\" : \"red\",\n",
    "            \"doors\": 3\n",
    "               }\n",
    "\n",
    "print(house)"
   ]
  },
  {
   "cell_type": "code",
   "execution_count": 108,
   "metadata": {},
   "outputs": [
    {
     "name": "stdout",
     "output_type": "stream",
     "text": [
      "10\n",
      "10\n",
      "[10, 2, 3]\n",
      "{'windows': 10, 'color': 'green', 'doors': 10}\n"
     ]
    }
   ],
   "source": [
    "print house[\"windows\"]\n",
    "\n",
    "print house[\"windows\"]\n",
    "\n",
    "house[\"windows\"] = 10\n",
    "mylist[0] = 10\n",
    "print mylist\n",
    "print house"
   ]
  },
  {
   "cell_type": "code",
   "execution_count": 105,
   "metadata": {},
   "outputs": [
    {
     "name": "stdout",
     "output_type": "stream",
     "text": [
      "{'windows': 10, 'color': 'green', 'doors': 10}\n"
     ]
    }
   ],
   "source": [
    "#CHANGE THE VALUE OF DOORS TO 10 & COLOR = GREEN\n",
    "\n",
    "\n",
    "house[\"color\"] = \"green\"\n",
    "house[\"doors\"] = 10\n",
    "\n",
    "print(house)"
   ]
  },
  {
   "cell_type": "code",
   "execution_count": 118,
   "metadata": {},
   "outputs": [
    {
     "name": "stdout",
     "output_type": "stream",
     "text": [
      "Key found\n"
     ]
    }
   ],
   "source": [
    "#CHANGE THE VALUE OF DOORS TO 10 & COLOR = GREEN\n",
    "\n",
    "# print house[\"colorfdsfsdfdsfds\"]\n",
    "\n",
    "# print house.get(\"colorfdsfsdfdsfds\", None)\n",
    "\n",
    "if house.get(\"windowsfff\"):\n",
    "    print (\"Key found\")\n",
    "else:\n",
    "    print (\"Key not found\")\n",
    "    \n",
    "    \n",
    "# help(house.get)\n",
    "# house[\"doors\"] = 10\n",
    "\n",
    "# print(house)"
   ]
  },
  {
   "cell_type": "code",
   "execution_count": 126,
   "metadata": {},
   "outputs": [],
   "source": [
    "# house[\"windows\"] = 100\n"
   ]
  },
  {
   "cell_type": "code",
   "execution_count": 125,
   "metadata": {},
   "outputs": [
    {
     "name": "stdout",
     "output_type": "stream",
     "text": [
      "{'windows': 100, 'color': 'green', 'doors': 10}\n"
     ]
    }
   ],
   "source": [
    "print(house)"
   ]
  },
  {
   "cell_type": "code",
   "execution_count": 127,
   "metadata": {
    "collapsed": true
   },
   "outputs": [],
   "source": [
    "# tuple1 = (1,2,3)\n",
    "\n",
    "list1 = [1,2,3]\n",
    "\n",
    "del list1[0]\n",
    "\n"
   ]
  },
  {
   "cell_type": "code",
   "execution_count": 128,
   "metadata": {},
   "outputs": [
    {
     "name": "stdout",
     "output_type": "stream",
     "text": [
      "[2, 3]\n"
     ]
    }
   ],
   "source": [
    "print list1"
   ]
  },
  {
   "cell_type": "code",
   "execution_count": 129,
   "metadata": {
    "collapsed": true
   },
   "outputs": [],
   "source": [
    "tyler = {\n",
    "  \"name\": \"Tyler\",\n",
    "  \"homework\": [0.0, 87.0, 75.0, 22.0],\n",
    "  \"quizzes\": [0.0, 75.0, 78.0],\n",
    "  \"tests\": [100.0, 100.0]\n",
    "}\n",
    "\n",
    "#CALCULATE THE SUM OF ALL THE VALUES FROM the following keys\n",
    "#'homework', 'quizzes', 'tests'\n",
    "# play with sum function, if possible\n",
    "\n",
    "#SLICE THE LIST & INCLUDE ONLY THE LAST 2 ITEMS for the total sum"
   ]
  },
  {
   "cell_type": "code",
   "execution_count": 133,
   "metadata": {},
   "outputs": [
    {
     "name": "stdout",
     "output_type": "stream",
     "text": [
      "537.0\n",
      "450.0\n"
     ]
    }
   ],
   "source": [
    "#FUNCTION DEFENITION\n",
    "def calculate_sum_of_list(number_list):\n",
    "    return sum(number_list)\n",
    "\n",
    "#CALLING FUNCTION AND RETURNED VALUE IS ASSIGNED BACK TO variables SUMs\n",
    "sum1 = calculate_sum_of_list( tyler[\"homework\"] )\n",
    "sum2 = calculate_sum_of_list( tyler[\"quizzes\"] )\n",
    "sum3 = calculate_sum_of_list( tyler[\"tests\"] )\n",
    "\n",
    "#ADDING ALL THE SUMS\n",
    "result = sum1 + sum2 + sum3\n",
    "print (result)\n",
    "\n",
    "#SLICING\n",
    "# SLlICING SYNTAX [starting_index : ending_index]\n",
    "# MY STARTING INDEX IS -2, because we want to start from the last, (2 position before)\n",
    "# ENDING INDEX IS :(optional), which means it will take all the elements until the end\n",
    "\n",
    "sliced_sum1 = calculate_sum_of_list( tyler[\"homework\"][-2:] )\n",
    "sliced_sum2 = calculate_sum_of_list( tyler[\"quizzes\"][-2:] )\n",
    "sliced_sum3 = calculate_sum_of_list( tyler[\"tests\"][-2:] )\n",
    "\n",
    "sliced_result = sliced_sum1 + sliced_sum2 + sliced_sum3\n",
    "print (sliced_result)"
   ]
  },
  {
   "cell_type": "code",
   "execution_count": 157,
   "metadata": {
    "collapsed": true
   },
   "outputs": [],
   "source": [
    "class House():\n",
    "    color = \"\"\n",
    "    doors = 0\n",
    "    \n",
    "    def __init__(self,color,door):\n",
    "        self.color = color\n",
    "        self.doors = door\n",
    "    \n",
    "        \n",
    "    def describe_my_house(self):\n",
    "        print (self.color + str(self.doors))"
   ]
  },
  {
   "cell_type": "code",
   "execution_count": null,
   "metadata": {},
   "outputs": [],
   "source": []
  },
  {
   "cell_type": "code",
   "execution_count": null,
   "metadata": {
    "collapsed": true
   },
   "outputs": [],
   "source": [
    "#CREATE A CLASS CALLED \"cat\", make sure u have a attribute called name\n",
    "#add a constructor , take 1 argument (name)\n",
    "#add a method called describe_the_cat, that print the name of cat"
   ]
  }
 ],
 "metadata": {
  "kernelspec": {
   "display_name": "Python 2",
   "language": "python",
   "name": "python2"
  },
  "language_info": {
   "codemirror_mode": {
    "name": "ipython",
    "version": 2
   },
   "file_extension": ".py",
   "mimetype": "text/x-python",
   "name": "python",
   "nbconvert_exporter": "python",
   "pygments_lexer": "ipython2",
   "version": "2.7.9"
  }
 },
 "nbformat": 4,
 "nbformat_minor": 2
}
