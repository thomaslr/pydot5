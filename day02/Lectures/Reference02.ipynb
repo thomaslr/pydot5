{
 "cells": [
  {
   "cell_type": "code",
   "execution_count": 4,
   "metadata": {},
   "outputs": [
    {
     "name": "stdout",
     "output_type": "stream",
     "text": [
      "jhon\n",
      "('bala', 'hello')\n"
     ]
    }
   ],
   "source": [
    "my_name  = \"jhon\"\n",
    "print (my_name)\n",
    "\n",
    "print ( \"bala\" , \"hello\" )"
   ]
  },
  {
   "cell_type": "code",
   "execution_count": 6,
   "metadata": {},
   "outputs": [
    {
     "name": "stdout",
     "output_type": "stream",
     "text": [
      "STATIC TEXT\n",
      "STATIC TEXT\n"
     ]
    }
   ],
   "source": [
    "\n",
    "# def function_name ():\n",
    "    #CODE FOR THE FUNCTION\n",
    "    #return somthing\n",
    "    \n",
    "def print_me():\n",
    "    print (\"STATIC TEXT\")\n",
    "    print (\"STATIC TEXT\")\n",
    "    \n",
    "\n",
    "print_me()"
   ]
  },
  {
   "cell_type": "code",
   "execution_count": 11,
   "metadata": {},
   "outputs": [
    {
     "name": "stdout",
     "output_type": "stream",
     "text": [
      "bala\n",
      "bala\n"
     ]
    }
   ],
   "source": [
    "#MODIFY THE FUNCTION, TO TAKE AN ARGUMENT AND PRINTS THAT USING PRINT FUNCTION\n",
    "def print_me(my_name):\n",
    "    print (my_name)\n",
    "    print (my_name)\n",
    "\n",
    "print_me(\"bala\")"
   ]
  },
  {
   "cell_type": "code",
   "execution_count": 15,
   "metadata": {},
   "outputs": [
    {
     "name": "stdout",
     "output_type": "stream",
     "text": [
      "NAME: 20 and age: bala\n",
      "NAME: 20 and age: bala\n"
     ]
    }
   ],
   "source": [
    "def print_me(my_name, age):\n",
    "    print ( \"NAME: %s and age: %s\" % (my_name, age) )\n",
    "    print ( \"NAME: {} and age: {}\".format(my_name, age) )\n",
    "    \n",
    "print_me(age=20, my_name=\"bala\")"
   ]
  },
  {
   "cell_type": "code",
   "execution_count": 26,
   "metadata": {
    "collapsed": true
   },
   "outputs": [],
   "source": [
    "def print_me(my_name, age):\n",
    "    '''\n",
    "    THIS IS A FUNCTION THAT TAKES TWO INPUTS\n",
    "    USAGE:\n",
    "    print_me(my_name=\"somethig\", age=25)\n",
    "    '''\n",
    "    print ( \"NAME: %s and age: %s\" % (my_name, age) )\n",
    "    print ( \"NAME: {} and age: {}\".format(my_name, age) )\n"
   ]
  },
  {
   "cell_type": "code",
   "execution_count": 20,
   "metadata": {},
   "outputs": [
    {
     "name": "stdout",
     "output_type": "stream",
     "text": [
      "NAME: bala and age: 20\n",
      "NAME: bala and age: 20\n"
     ]
    }
   ],
   "source": [
    "print_me(my_name=\"bala\", age=20)"
   ]
  },
  {
   "cell_type": "code",
   "execution_count": 27,
   "metadata": {
    "collapsed": true
   },
   "outputs": [],
   "source": [
    "def print_me(my_name, age):\n",
    "    '''\n",
    "    THIS IS A FUNCTION THAT TAKES TWO INPUTS\n",
    "    USAGE:\n",
    "    print_me(my_name=\"somethig\", age=25)\n",
    "    '''\n",
    "    #print ( \"NAME: %s and age: %s\" % (my_name, age) )\n",
    "    for i in range(2):\n",
    "        print ( \"NAME: {} and age: {}\".format(my_name, age) )\n",
    "    "
   ]
  },
  {
   "cell_type": "code",
   "execution_count": 28,
   "metadata": {},
   "outputs": [
    {
     "name": "stdout",
     "output_type": "stream",
     "text": [
      "NAME: bala and age: 20\n",
      "NAME: bala and age: 20\n"
     ]
    }
   ],
   "source": [
    "print_me(my_name=\"bala\", age=20)"
   ]
  },
  {
   "cell_type": "code",
   "execution_count": 31,
   "metadata": {
    "collapsed": true
   },
   "outputs": [],
   "source": [
    "def print_me(my_name, age, repeat_count):\n",
    "    '''\n",
    "    THIS IS A FUNCTION THAT TAKES TWO INPUTS\n",
    "    USAGE:\n",
    "    print_me(my_name=\"somethig\", age=25)\n",
    "    '''\n",
    "    for _ in range(repeat_count):\n",
    "        print ( \"NAME: {} and age: {}\".format(my_name, age) )\n",
    "    "
   ]
  },
  {
   "cell_type": "code",
   "execution_count": 30,
   "metadata": {},
   "outputs": [
    {
     "name": "stdout",
     "output_type": "stream",
     "text": [
      "NAME: bala and age: 20\n",
      "NAME: bala and age: 20\n",
      "NAME: bala and age: 20\n",
      "NAME: bala and age: 20\n",
      "NAME: bala and age: 20\n",
      "NAME: bala and age: 20\n",
      "NAME: bala and age: 20\n",
      "NAME: bala and age: 20\n",
      "NAME: bala and age: 20\n",
      "NAME: bala and age: 20\n"
     ]
    }
   ],
   "source": [
    "#print_me(my_name=\"bala\", age=20, repeat_count=10)\n",
    "\n",
    "print_me(\"bala\", 20, 10)"
   ]
  },
  {
   "cell_type": "code",
   "execution_count": 33,
   "metadata": {
    "collapsed": true
   },
   "outputs": [],
   "source": [
    "# RETURN VALUE FROM FUNCTION"
   ]
  },
  {
   "cell_type": "code",
   "execution_count": 34,
   "metadata": {},
   "outputs": [
    {
     "name": "stdout",
     "output_type": "stream",
     "text": [
      "NAME: bala and age: 20\n"
     ]
    }
   ],
   "source": [
    "def print_me(my_name, age):\n",
    "    return  \"NAME: {} and age: {}\".format(my_name, age)\n",
    "\n",
    "formated_string = print_me(\"bala\", 20)\n",
    "print (formated_string)"
   ]
  },
  {
   "cell_type": "code",
   "execution_count": 40,
   "metadata": {},
   "outputs": [
    {
     "name": "stdout",
     "output_type": "stream",
     "text": [
      "39\n"
     ]
    }
   ],
   "source": [
    "def add (num1, num2 ):\n",
    "    total =  num1 + num2\n",
    "    return total\n",
    "\n",
    "result1 = add(10,20)\n",
    "result2 = add(4,5)\n",
    "\n",
    "value = add ( result1 , result2 )\n",
    "\n",
    "print (value)"
   ]
  },
  {
   "cell_type": "code",
   "execution_count": 41,
   "metadata": {},
   "outputs": [
    {
     "ename": "TypeError",
     "evalue": "cannot concatenate 'str' and 'int' objects",
     "output_type": "error",
     "traceback": [
      "\u001b[0;31m\u001b[0m",
      "\u001b[0;31mTypeError\u001b[0mTraceback (most recent call last)",
      "\u001b[0;32m<ipython-input-41-55ad501f6a80>\u001b[0m in \u001b[0;36m<module>\u001b[0;34m()\u001b[0m\n\u001b[1;32m      2\u001b[0m     \u001b[0;32mreturn\u001b[0m  \u001b[0;34m\"NAME:\"\u001b[0m \u001b[0;34m+\u001b[0m \u001b[0mmy_name\u001b[0m \u001b[0;34m+\u001b[0m   \u001b[0;34m\"and age: \"\u001b[0m \u001b[0;34m+\u001b[0m \u001b[0mage\u001b[0m\u001b[0;34m\u001b[0m\u001b[0m\n\u001b[1;32m      3\u001b[0m \u001b[0;34m\u001b[0m\u001b[0m\n\u001b[0;32m----> 4\u001b[0;31m \u001b[0mformated_string\u001b[0m \u001b[0;34m=\u001b[0m \u001b[0mprint_me\u001b[0m\u001b[0;34m(\u001b[0m\u001b[0;34m\"bala\"\u001b[0m\u001b[0;34m,\u001b[0m \u001b[0;36m20\u001b[0m\u001b[0;34m)\u001b[0m\u001b[0;34m\u001b[0m\u001b[0m\n\u001b[0m\u001b[1;32m      5\u001b[0m \u001b[0;32mprint\u001b[0m \u001b[0;34m(\u001b[0m\u001b[0mformated_string\u001b[0m\u001b[0;34m)\u001b[0m\u001b[0;34m\u001b[0m\u001b[0m\n",
      "\u001b[0;32m<ipython-input-41-55ad501f6a80>\u001b[0m in \u001b[0;36mprint_me\u001b[0;34m(my_name, age)\u001b[0m\n\u001b[1;32m      1\u001b[0m \u001b[0;32mdef\u001b[0m \u001b[0mprint_me\u001b[0m\u001b[0;34m(\u001b[0m\u001b[0mmy_name\u001b[0m\u001b[0;34m,\u001b[0m \u001b[0mage\u001b[0m\u001b[0;34m)\u001b[0m\u001b[0;34m:\u001b[0m\u001b[0;34m\u001b[0m\u001b[0m\n\u001b[0;32m----> 2\u001b[0;31m     \u001b[0;32mreturn\u001b[0m  \u001b[0;34m\"NAME:\"\u001b[0m \u001b[0;34m+\u001b[0m \u001b[0mmy_name\u001b[0m \u001b[0;34m+\u001b[0m   \u001b[0;34m\"and age: \"\u001b[0m \u001b[0;34m+\u001b[0m \u001b[0mage\u001b[0m\u001b[0;34m\u001b[0m\u001b[0m\n\u001b[0m\u001b[1;32m      3\u001b[0m \u001b[0;34m\u001b[0m\u001b[0m\n\u001b[1;32m      4\u001b[0m \u001b[0mformated_string\u001b[0m \u001b[0;34m=\u001b[0m \u001b[0mprint_me\u001b[0m\u001b[0;34m(\u001b[0m\u001b[0;34m\"bala\"\u001b[0m\u001b[0;34m,\u001b[0m \u001b[0;36m20\u001b[0m\u001b[0;34m)\u001b[0m\u001b[0;34m\u001b[0m\u001b[0m\n\u001b[1;32m      5\u001b[0m \u001b[0;32mprint\u001b[0m \u001b[0;34m(\u001b[0m\u001b[0mformated_string\u001b[0m\u001b[0;34m)\u001b[0m\u001b[0;34m\u001b[0m\u001b[0m\n",
      "\u001b[0;31mTypeError\u001b[0m: cannot concatenate 'str' and 'int' objects"
     ]
    }
   ],
   "source": [
    "def print_me(my_name, age):\n",
    "    return  \"NAME:\" + my_name +   \"and age: \" + str(age)\n",
    "\n",
    "formated_string = print_me(\"bala\", 20)\n",
    "print (formated_string)"
   ]
  },
  {
   "cell_type": "code",
   "execution_count": 1,
   "metadata": {},
   "outputs": [],
   "source": [
    "#help(str)"
   ]
  },
  {
   "cell_type": "code",
   "execution_count": 2,
   "metadata": {},
   "outputs": [],
   "source": [
    "# for i in range(100):\n",
    "#     print \"i %s = %s \" % (i, chr(i))"
   ]
  },
  {
   "cell_type": "markdown",
   "metadata": {
    "collapsed": true
   },
   "source": [
    "### With Return Values\n",
    "\n",
    "*Example*\n",
    "```python\n",
    "def function_with_return (input1, input2):\n",
    "    #block of reusable code\n",
    "    return input1 + input2\n",
    "```\n",
    "This function takes in two inputs and returns the sum of the two inputs.\n",
    "\n",
    "**Exercise**\n",
    "- Write a new function \"search_flights\" which takes in one input called \"destination\"\n",
    "- Inside the function:\n",
    "- 1. Write an If statement to return \"Please enter the correct airport code\" if len(destination) is more than or less than 3\n",
    " 2. Write an Elif statement to return \"Your destination is Tokyo Narita Airport.\" if destination is \"NRT\"\n",
    " 3. Write an Else statement to return \"Sorry, we do not fly to your intended destination currently.\"\n",
    "- Declare a new variable \"search_results\" and assign to it \"search_flight(\"desination_input\")\" \n",
    "- Print out \"search_results\""
   ]
  },
  {
   "cell_type": "code",
   "execution_count": 69,
   "metadata": {},
   "outputs": [
    {
     "ename": "KeyboardInterrupt",
     "evalue": "",
     "output_type": "error",
     "traceback": [
      "\u001b[0;31m\u001b[0m",
      "\u001b[0;31mKeyboardInterrupt\u001b[0mTraceback (most recent call last)",
      "\u001b[0;32m<ipython-input-69-729ddd85ae04>\u001b[0m in \u001b[0;36m<module>\u001b[0;34m()\u001b[0m\n\u001b[0;32m----> 1\u001b[0;31m \u001b[0mdest\u001b[0m \u001b[0;34m=\u001b[0m \u001b[0mraw_input\u001b[0m\u001b[0;34m(\u001b[0m\u001b[0;34m'Enter your name: '\u001b[0m\u001b[0;34m)\u001b[0m\u001b[0;34m\u001b[0m\u001b[0m\n\u001b[0m\u001b[1;32m      2\u001b[0m \u001b[0;34m\u001b[0m\u001b[0m\n\u001b[1;32m      3\u001b[0m \u001b[0;31m#Write a new function \"search_flights\" which takes in one input called \"destination\"\u001b[0m\u001b[0;34m\u001b[0m\u001b[0;34m\u001b[0m\u001b[0m\n\u001b[1;32m      4\u001b[0m \u001b[0;34m\u001b[0m\u001b[0m\n\u001b[1;32m      5\u001b[0m \u001b[0;32mdef\u001b[0m \u001b[0msearch_flights\u001b[0m\u001b[0;34m(\u001b[0m\u001b[0mdestination\u001b[0m\u001b[0;34m)\u001b[0m\u001b[0;34m:\u001b[0m\u001b[0;34m\u001b[0m\u001b[0m\n",
      "\u001b[0;32m/usr/local/lib/python2.7/dist-packages/ipykernel/kernelbase.pyc\u001b[0m in \u001b[0;36mraw_input\u001b[0;34m(self, prompt)\u001b[0m\n\u001b[1;32m    703\u001b[0m             \u001b[0mself\u001b[0m\u001b[0;34m.\u001b[0m\u001b[0m_parent_ident\u001b[0m\u001b[0;34m,\u001b[0m\u001b[0;34m\u001b[0m\u001b[0m\n\u001b[1;32m    704\u001b[0m             \u001b[0mself\u001b[0m\u001b[0;34m.\u001b[0m\u001b[0m_parent_header\u001b[0m\u001b[0;34m,\u001b[0m\u001b[0;34m\u001b[0m\u001b[0m\n\u001b[0;32m--> 705\u001b[0;31m             \u001b[0mpassword\u001b[0m\u001b[0;34m=\u001b[0m\u001b[0mFalse\u001b[0m\u001b[0;34m,\u001b[0m\u001b[0;34m\u001b[0m\u001b[0m\n\u001b[0m\u001b[1;32m    706\u001b[0m         )\n\u001b[1;32m    707\u001b[0m \u001b[0;34m\u001b[0m\u001b[0m\n",
      "\u001b[0;32m/usr/local/lib/python2.7/dist-packages/ipykernel/kernelbase.pyc\u001b[0m in \u001b[0;36m_input_request\u001b[0;34m(self, prompt, ident, parent, password)\u001b[0m\n\u001b[1;32m    733\u001b[0m             \u001b[0;32mexcept\u001b[0m \u001b[0mKeyboardInterrupt\u001b[0m\u001b[0;34m:\u001b[0m\u001b[0;34m\u001b[0m\u001b[0m\n\u001b[1;32m    734\u001b[0m                 \u001b[0;31m# re-raise KeyboardInterrupt, to truncate traceback\u001b[0m\u001b[0;34m\u001b[0m\u001b[0;34m\u001b[0m\u001b[0m\n\u001b[0;32m--> 735\u001b[0;31m                 \u001b[0;32mraise\u001b[0m \u001b[0mKeyboardInterrupt\u001b[0m\u001b[0;34m\u001b[0m\u001b[0m\n\u001b[0m\u001b[1;32m    736\u001b[0m             \u001b[0;32melse\u001b[0m\u001b[0;34m:\u001b[0m\u001b[0;34m\u001b[0m\u001b[0m\n\u001b[1;32m    737\u001b[0m                 \u001b[0;32mbreak\u001b[0m\u001b[0;34m\u001b[0m\u001b[0m\n",
      "\u001b[0;31mKeyboardInterrupt\u001b[0m: "
     ]
    }
   ],
   "source": [
    "dest = raw_input('Enter your name: ')\n",
    "\n",
    "#Write a new function \"search_flights\" which takes in one input called \"destination\"\n",
    "\n",
    "def search_flights(destination):\n",
    "    \n",
    "    if (len(destination) > 3) or (len(destination) < 3):\n",
    "        return \"Please enter the correct airport code\"\n",
    "    elif destination == \"NRT\":\n",
    "        return \"Your destination is Tokyo Narita Airport.\"\n",
    "    else:\n",
    "        return \"Sorry, we do not fly to your intended destination currently.\"\n",
    "    \n",
    "\n",
    "search_results = search_flights(dest)\n",
    "print (search_results)"
   ]
  },
  {
   "cell_type": "code",
   "execution_count": 63,
   "metadata": {},
   "outputs": [
    {
     "data": {
      "text/plain": [
       "4"
      ]
     },
     "execution_count": 63,
     "metadata": {},
     "output_type": "execute_result"
    }
   ],
   "source": [
    " len(\"AAAA\")"
   ]
  },
  {
   "cell_type": "code",
   "execution_count": 83,
   "metadata": {},
   "outputs": [
    {
     "name": "stdout",
     "output_type": "stream",
     "text": [
      "([1, 1, 3], 'bala')\n"
     ]
    }
   ],
   "source": [
    "def hello(name):\n",
    "    return ([1,2,3] , name)\n",
    "\n",
    "result = hello(\"bala\")\n",
    "#len(result)\n",
    "result[0][1] = 1\n",
    "# print (result[0])\n",
    "print(result)"
   ]
  },
  {
   "cell_type": "code",
   "execution_count": 72,
   "metadata": {},
   "outputs": [
    {
     "name": "stdout",
     "output_type": "stream",
     "text": [
      "Haiabc\n"
     ]
    }
   ],
   "source": [
    "duplicate_funcation(\"abc\")"
   ]
  },
  {
   "cell_type": "code",
   "execution_count": 88,
   "metadata": {},
   "outputs": [
    {
     "ename": "TypeError",
     "evalue": "'str' object does not support item assignment",
     "output_type": "error",
     "traceback": [
      "\u001b[0;31m\u001b[0m",
      "\u001b[0;31mTypeError\u001b[0mTraceback (most recent call last)",
      "\u001b[0;32m<ipython-input-88-5b4f9a42b769>\u001b[0m in \u001b[0;36m<module>\u001b[0;34m()\u001b[0m\n\u001b[1;32m      1\u001b[0m \u001b[0mname\u001b[0m  \u001b[0;34m=\u001b[0m \u001b[0;34m\"abc\"\u001b[0m\u001b[0;34m\u001b[0m\u001b[0m\n\u001b[0;32m----> 2\u001b[0;31m \u001b[0mname\u001b[0m\u001b[0;34m[\u001b[0m\u001b[0;36m1\u001b[0m\u001b[0;34m]\u001b[0m \u001b[0;34m=\u001b[0m \u001b[0;34m\"d\"\u001b[0m\u001b[0;34m\u001b[0m\u001b[0m\n\u001b[0m",
      "\u001b[0;31mTypeError\u001b[0m: 'str' object does not support item assignment"
     ]
    }
   ],
   "source": [
    "name  = \"abc\"\n",
    "name[1] = \"d\""
   ]
  },
  {
   "cell_type": "code",
   "execution_count": 91,
   "metadata": {},
   "outputs": [
    {
     "name": "stdout",
     "output_type": "stream",
     "text": [
      "JOON NOT FOUND\n",
      "JOON IS FOUND\n",
      "JOON NOT FOUND\n"
     ]
    }
   ],
   "source": [
    "list_1 = [\"bala\", \"joon\", \"ngoc\"]\n",
    "\n",
    "\n",
    "for item in list_1:\n",
    "    if item == \"joon\":\n",
    "        print (\"JOON IS FOUND\")\n",
    "    else:\n",
    "        print (\"JOON NOT FOUND\")\n"
   ]
  },
  {
   "cell_type": "code",
   "execution_count": 101,
   "metadata": {},
   "outputs": [
    {
     "name": "stdout",
     "output_type": "stream",
     "text": [
      "{'windows': 6, 'color': 'red', 'doors': 3}\n"
     ]
    }
   ],
   "source": [
    "mylist = [1,2,3]\n",
    "house = { \n",
    "            \"windows\" :  6,\n",
    "            \"color\" : \"red\",\n",
    "            \"doors\": 3\n",
    "               }\n",
    "\n",
    "print(house)"
   ]
  },
  {
   "cell_type": "code",
   "execution_count": 108,
   "metadata": {},
   "outputs": [
    {
     "name": "stdout",
     "output_type": "stream",
     "text": [
      "10\n",
      "10\n",
      "[10, 2, 3]\n",
      "{'windows': 10, 'color': 'green', 'doors': 10}\n"
     ]
    }
   ],
   "source": [
    "print house[\"windows\"]\n",
    "\n",
    "print house[\"windows\"]\n",
    "\n",
    "house[\"windows\"] = 10\n",
    "mylist[0] = 10\n",
    "print mylist\n",
    "print house"
   ]
  },
  {
   "cell_type": "code",
   "execution_count": 105,
   "metadata": {},
   "outputs": [
    {
     "name": "stdout",
     "output_type": "stream",
     "text": [
      "{'windows': 10, 'color': 'green', 'doors': 10}\n"
     ]
    }
   ],
   "source": [
    "#CHANGE THE VALUE OF DOORS TO 10 & COLOR = GREEN\n",
    "\n",
    "\n",
    "house[\"color\"] = \"green\"\n",
    "house[\"doors\"] = 10\n",
    "\n",
    "print(house)"
   ]
  },
  {
   "cell_type": "code",
   "execution_count": 118,
   "metadata": {},
   "outputs": [
    {
     "name": "stdout",
     "output_type": "stream",
     "text": [
      "Key found\n"
     ]
    }
   ],
   "source": [
    "#CHANGE THE VALUE OF DOORS TO 10 & COLOR = GREEN\n",
    "\n",
    "# print house[\"colorfdsfsdfdsfds\"]\n",
    "\n",
    "# print house.get(\"colorfdsfsdfdsfds\", None)\n",
    "\n",
    "if house.get(\"windowsfff\"):\n",
    "    print (\"Key found\")\n",
    "else:\n",
    "    print (\"Key not found\")\n",
    "    \n",
    "    \n",
    "# help(house.get)\n",
    "# house[\"doors\"] = 10\n",
    "\n",
    "# print(house)"
   ]
  },
  {
   "cell_type": "code",
   "execution_count": 126,
   "metadata": {
    "collapsed": true
   },
   "outputs": [],
   "source": [
    "# house[\"windows\"] = 100\n"
   ]
  },
  {
   "cell_type": "code",
   "execution_count": 125,
   "metadata": {},
   "outputs": [
    {
     "name": "stdout",
     "output_type": "stream",
     "text": [
      "{'windows': 100, 'color': 'green', 'doors': 10}\n"
     ]
    }
   ],
   "source": [
    "print(house)"
   ]
  },
  {
   "cell_type": "code",
   "execution_count": 127,
   "metadata": {
    "collapsed": true
   },
   "outputs": [],
   "source": [
    "# tuple1 = (1,2,3)\n",
    "\n",
    "list1 = [1,2,3]\n",
    "\n",
    "del list1[0]\n",
    "\n"
   ]
  },
  {
   "cell_type": "code",
   "execution_count": 128,
   "metadata": {},
   "outputs": [
    {
     "name": "stdout",
     "output_type": "stream",
     "text": [
      "[2, 3]\n"
     ]
    }
   ],
   "source": [
    "print list1"
   ]
  },
  {
   "cell_type": "code",
   "execution_count": 129,
   "metadata": {
    "collapsed": true
   },
   "outputs": [],
   "source": [
    "tyler = {\n",
    "  \"name\": \"Tyler\",\n",
    "  \"homework\": [0.0, 87.0, 75.0, 22.0],\n",
    "  \"quizzes\": [0.0, 75.0, 78.0],\n",
    "  \"tests\": [100.0, 100.0]\n",
    "}\n",
    "\n",
    "#CALCULATE THE SUM OF ALL THE VALUES FROM the following keys\n",
    "#'homework', 'quizzes', 'tests'\n",
    "# play with sum function, if possible\n",
    "\n",
    "#SLICE THE LIST & INCLUDE ONLY THE LAST 2 ITEMS for the total sum"
   ]
  },
  {
   "cell_type": "code",
   "execution_count": 133,
   "metadata": {},
   "outputs": [
    {
     "name": "stdout",
     "output_type": "stream",
     "text": [
      "537.0\n",
      "450.0\n"
     ]
    }
   ],
   "source": [
    "#FUNCTION DEFENITION\n",
    "def calculate_sum_of_list(number_list):\n",
    "    return sum(number_list)\n",
    "\n",
    "#CALLING FUNCTION AND RETURNED VALUE IS ASSIGNED BACK TO variables SUMs\n",
    "sum1 = calculate_sum_of_list( tyler[\"homework\"] )\n",
    "sum2 = calculate_sum_of_list( tyler[\"quizzes\"] )\n",
    "sum3 = calculate_sum_of_list( tyler[\"tests\"] )\n",
    "\n",
    "#ADDING ALL THE SUMS\n",
    "result = sum1 + sum2 + sum3\n",
    "print (result)\n",
    "\n",
    "#SLICING\n",
    "# SLlICING SYNTAX [starting_index : ending_index]\n",
    "# MY STARTING INDEX IS -2, because we want to start from the last, (2 position before)\n",
    "# ENDING INDEX IS :(optional), which means it will take all the elements until the end\n",
    "\n",
    "sliced_sum1 = calculate_sum_of_list( tyler[\"homework\"][-2:] )\n",
    "sliced_sum2 = calculate_sum_of_list( tyler[\"quizzes\"][-2:] )\n",
    "sliced_sum3 = calculate_sum_of_list( tyler[\"tests\"][-2:] )\n",
    "\n",
    "sliced_result = sliced_sum1 + sliced_sum2 + sliced_sum3\n",
    "print (sliced_result)"
   ]
  },
  {
   "cell_type": "code",
   "execution_count": 157,
   "metadata": {
    "collapsed": true
   },
   "outputs": [],
   "source": [
    "class House():\n",
    "    color = \"\"\n",
    "    doors = 0\n",
    "    \n",
    "    def __init__(self,color,door):\n",
    "        self.color = color\n",
    "        self.doors = door\n",
    "    \n",
    "        \n",
    "    def describe_my_house(self):\n",
    "        print (self.color + str(self.doors))"
   ]
  },
  {
   "cell_type": "code",
   "execution_count": null,
   "metadata": {
    "collapsed": true
   },
   "outputs": [],
   "source": []
  },
  {
   "cell_type": "code",
   "execution_count": null,
   "metadata": {
    "collapsed": true
   },
   "outputs": [],
   "source": [
    "#CREATE A CLASS CALLED \"cat\", make sure u have a attribute called name\n",
    "#add a constructor , take 1 argument (name)\n",
    "#add a method called describe_the_cat, that print the name of cat"
   ]
  }
 ],
 "metadata": {
  "kernelspec": {
   "display_name": "Python 2",
   "language": "python",
   "name": "python2"
  },
  "language_info": {
   "codemirror_mode": {
    "name": "ipython",
    "version": 2
   },
   "file_extension": ".py",
   "mimetype": "text/x-python",
   "name": "python",
   "nbconvert_exporter": "python",
   "pygments_lexer": "ipython2",
   "version": "2.7.13"
  }
 },
 "nbformat": 4,
 "nbformat_minor": 2
}
