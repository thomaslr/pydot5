{
 "cells": [
  {
   "cell_type": "markdown",
   "metadata": {
    "internals": {
     "slide_type": "subslide"
    },
    "slideshow": {
     "slide_type": "-"
    }
   },
   "source": [
    "WELCOME TO STACKUP'S PYTHON COURSE !!!\n",
    "============================"
   ]
  },
  {
   "cell_type": "markdown",
   "metadata": {},
   "source": [
    "## This is the exercise workbook for day 1 - Python Basics.\n",
    "## Topics covered\n",
    "- print \n",
    "- comment \n",
    "- indentation\n",
    "- snake_casing\n",
    "- variables\n",
    "  - int\n",
    "  - float\n",
    "  - bool\n",
    "- types\n",
    "- operators\n",
    "- conditions\n",
    "- list\n",
    "- iterations (loop)"
   ]
  },
  {
   "cell_type": "code",
   "execution_count": 1,
   "metadata": {
    "collapsed": true,
    "internals": {
     "frag_number": 1,
     "slide_helper": "subslide_end"
    },
    "slide_helper": "slide_end",
    "slideshow": {
     "slide_type": "fragment"
    }
   },
   "outputs": [],
   "source": [
    "# you can mix text and code in one place and\n",
    "# run code from a Web browser"
   ]
  },
  {
   "cell_type": "markdown",
   "metadata": {},
   "source": [
    "HELLO WORLD\n",
    "------\n",
    "\n",
    "Learn to write your first line of Python code! \n",
    "\n",
    "Use the \"print\" statement to print out \"Hello World\". "
   ]
  },
  {
   "cell_type": "code",
   "execution_count": 1,
   "metadata": {},
   "outputs": [
    {
     "name": "stdout",
     "output_type": "stream",
     "text": [
      "Hello World\n"
     ]
    }
   ],
   "source": [
    "print(\"Hello World\")"
   ]
  },
  {
   "cell_type": "markdown",
   "metadata": {},
   "source": [
    "Comments are text written by the developer to describe the code. It will not be executed by Python. The \"#\" symbol indicates the start of a comment line.\n",
    "\n",
    "*Example*\n",
    "```python\n",
    "# I am a comment :)\n",
    "```\n",
    "Try writing your first comment line below."
   ]
  },
  {
   "cell_type": "code",
   "execution_count": null,
   "metadata": {
    "collapsed": true
   },
   "outputs": [],
   "source": []
  },
  {
   "cell_type": "markdown",
   "metadata": {
    "internals": {
     "frag_helper": "fragment_end",
     "frag_number": 1,
     "slide_helper": "subslide_end",
     "slide_type": "subslide"
    },
    "slide_helper": "slide_end",
    "slideshow": {
     "slide_type": "slide"
    }
   },
   "source": [
    "VARIABLES\n",
    "------"
   ]
  },
  {
   "cell_type": "markdown",
   "metadata": {},
   "source": [
    "### 01 String\n",
    "\n",
    "*Example*\n",
    "```python\n",
    "name = \"Ah Beng\"\n",
    "print(name)\n",
    "name_type = type(name)\n",
    "print(name_type)\n",
    "```\n",
    "\n",
    "**Exercise**\n",
    "- Declare a new variable \"name\" and assign it the value of your name. \n",
    "- Print out \"name\".\n",
    "- Use the \"type\" function to find out what is the type of value assigned to name"
   ]
  },
  {
   "cell_type": "code",
   "execution_count": null,
   "metadata": {
    "collapsed": true
   },
   "outputs": [],
   "source": [
    "# try it out! enter your code below this line.\n",
    "\n"
   ]
  },
  {
   "cell_type": "markdown",
   "metadata": {},
   "source": [
    "### 02 Integer \n",
    "\n",
    "**Exercise**\n",
    "- Declare a new variable \"age\" and assign it the value of your age. \n",
    "- Print out \"age\".\n"
   ]
  },
  {
   "cell_type": "code",
   "execution_count": null,
   "metadata": {
    "collapsed": true
   },
   "outputs": [],
   "source": [
    "# enter your code below this line.\n",
    "\n"
   ]
  },
  {
   "cell_type": "markdown",
   "metadata": {},
   "source": [
    "### 03 Boolean\n",
    "\n",
    "**Exercise**\n",
    "- Declare a new variable \"stackup_student\" and assign it the value of True\n",
    "- Print out \"stackup_student"
   ]
  },
  {
   "cell_type": "code",
   "execution_count": null,
   "metadata": {
    "collapsed": true
   },
   "outputs": [],
   "source": [
    "# enter your code below this line.\n",
    "\n"
   ]
  },
  {
   "cell_type": "markdown",
   "metadata": {},
   "source": [
    "### 02.04 List of Variable Types\n",
    "\n",
    "Here is a reference list of the various variable types."
   ]
  },
  {
   "cell_type": "code",
   "execution_count": null,
   "metadata": {
    "collapsed": true,
    "internals": {
     "frag_helper": "fragment_end",
     "frag_number": 10,
     "slide_helper": "subslide_end",
     "slide_type": "subslide"
    },
    "slide_helper": "slide_end",
    "slideshow": {
     "slide_type": "subslide"
    }
   },
   "outputs": [],
   "source": [
    "# Integer\n",
    "a = 1\n",
    "print(a)\n",
    "\n",
    "# Float\n",
    "b = 1.0\n",
    "print(b)\n",
    "\n",
    "# String\n",
    "c = \"Hello world\"\n",
    "print(c)\n",
    "\n",
    "# Unicode\n",
    "d = u\"Привет, мир!\"\n",
    "print(d)\n",
    "\n",
    "# List (array)\n",
    "e = [1, 2, 3]\n",
    "print(e[2]) # 3\n",
    "\n",
    "# Tuple (constant array)\n",
    "f = (1, 2, 3)\n",
    "print(f[0]) # 1\n",
    "\n",
    "# Set\n",
    "g = {1, 1, 1, 2}\n",
    "print(g)\n",
    "\n",
    "# Dictionary (hash table, hash map)\n",
    "g = {1: 'One', 2: 'Two', 3: 'Three'}\n",
    "print(g[1]) # 'One'"
   ]
  },
  {
   "cell_type": "markdown",
   "metadata": {},
   "source": [
    "## 02 VARIABLES (extras)"
   ]
  },
  {
   "cell_type": "markdown",
   "metadata": {
    "internals": {
     "frag_helper": "fragment_end",
     "frag_number": 5,
     "slide_type": "subslide"
    },
    "slideshow": {
     "slide_type": "subslide"
    }
   },
   "source": [
    "### Multiple Assignments\n",
    "\n",
    "You can assign several variables at once. Run the code below to see it in action."
   ]
  },
  {
   "cell_type": "code",
   "execution_count": null,
   "metadata": {
    "collapsed": true,
    "internals": {
     "frag_helper": "fragment_end",
     "frag_number": 7
    },
    "slideshow": {
     "slide_type": "-"
    }
   },
   "outputs": [],
   "source": [
    "a, b = 1, 2\n",
    "print(a, b)\n",
    "print(b)\n",
    "print(a)\n"
   ]
  },
  {
   "cell_type": "markdown",
   "metadata": {},
   "source": [
    "## 03 Operators"
   ]
  },
  {
   "cell_type": "markdown",
   "metadata": {},
   "source": [
    "### 03.01 Arithmetic Operators\n",
    "\n",
    "You can perform arithmetic operations in Python using familiar mathematics symbols. Run the code below to see it in action."
   ]
  },
  {
   "cell_type": "code",
   "execution_count": null,
   "metadata": {
    "collapsed": true
   },
   "outputs": [],
   "source": [
    "addition = 4 + 10\n",
    "subtraction = 55 - 3\n",
    "multiplication = 3 * 8\n",
    "division = 25 / 5\n",
    "\n",
    "print(addition)\n",
    "print(subtraction)\n",
    "print(multiplication)\n",
    "print(division)"
   ]
  },
  {
   "cell_type": "markdown",
   "metadata": {},
   "source": [
    "### 03.02 String Concatenation\n",
    "You can join two strings together using the \"+\" operator.\n",
    "\n",
    "*Example*\n",
    "```python\n",
    "concat_text = \"I am \" + \"joined together!\" # take note of space after comma\n",
    "```\n",
    "\n",
    "**Exercise**\n",
    "- Declare a new variable \"welcome_text\" and assign it the value \"Welcome to StackUp, \" \n",
    "- Declare a new variable \"greetings\" and assign it the value \"welcome_text + name\"\n",
    "- Print out \"greetings\""
   ]
  },
  {
   "cell_type": "code",
   "execution_count": null,
   "metadata": {
    "collapsed": true
   },
   "outputs": [],
   "source": [
    "# enter your code below this line.\n"
   ]
  },
  {
   "cell_type": "markdown",
   "metadata": {},
   "source": [
    "### 03.03 String Multiplication\n",
    "\n",
    "You can multiply strings using the \"\\*\" operator\n",
    "\n",
    "*Example*\n",
    "```python\n",
    "mul_text = \"High Five \" * 5 # take note of space at the end of string\n",
    "```\n",
    "\n",
    "**Exercise**\n",
    "- Declare a new variable \"thrice\" and assign it a value of \"Round and Round \"\n",
    "- Declare a new variable called \"song\" and assign it a value of \"The wheels on the bus go \" + thrice\n",
    "- Print out song"
   ]
  },
  {
   "cell_type": "code",
   "execution_count": null,
   "metadata": {
    "collapsed": true
   },
   "outputs": [],
   "source": [
    "# enter your code below this line.\n"
   ]
  },
  {
   "cell_type": "markdown",
   "metadata": {},
   "source": [
    "### 03.03 Reassignments\n",
    "You can also perform operations on a value and reassign it back to the variable.\n",
    "\n",
    "*Example*\n",
    "```python\n",
    "increase = 5\n",
    "increase = increase + 10 # equals to 15\n",
    "increase += 25 # same as writing increase = increase + 25, equals to 40\n",
    "```\n",
    "\n",
    "**Exercise**\n",
    "- Declare a new variable \"pizza_slices\" and assign it the value 3\n",
    "- Increase the value of \"pizza_slices\" by 2 and reassign it back to \"pizza_slices\"\n",
    "- Print out \"pizza_slices\""
   ]
  },
  {
   "cell_type": "code",
   "execution_count": null,
   "metadata": {
    "collapsed": true
   },
   "outputs": [],
   "source": [
    "# enter your code below this line.\n"
   ]
  },
  {
   "cell_type": "markdown",
   "metadata": {},
   "source": [
    "### 03.04 Modulus \n",
    "The modulo operator will return the __remainder__ value from the division of the first number by the second number.\n",
    "\n",
    "*Example*\n",
    "```python\n",
    "remainder = 5 % 2 # equals 1\n",
    "```\n",
    "\n",
    "**Exercise**\n",
    "- Declare a new variable \"remainder_value\" and assign it the value \"52 % 2\"\n",
    "- Print out \"remainder_value\""
   ]
  },
  {
   "cell_type": "code",
   "execution_count": null,
   "metadata": {
    "collapsed": true
   },
   "outputs": [],
   "source": [
    "# enter your code below this line.\n"
   ]
  },
  {
   "cell_type": "markdown",
   "metadata": {},
   "source": [
    "### 03.05 Comparison Operators\n",
    "You can perform comparisons using familiar mathematics symbols and the expressions will evaluate to either True or False. Run the code below to see it in action."
   ]
  },
  {
   "cell_type": "code",
   "execution_count": null,
   "metadata": {
    "collapsed": true
   },
   "outputs": [],
   "source": [
    "more_than = 6 > 4 # evaluates to true\n",
    "less_than = 4 < 6 # evaluates to true\n",
    "more_than_and_equal = 6 >= 6 #evaluates to true\n",
    "less_than_and_equal = 4 <= 4 #evaluates to true\n",
    "print(more_than)\n",
    "print(less_than)\n",
    "print(more_than_and_equal)\n",
    "print(less_than_and_equal)"
   ]
  },
  {
   "cell_type": "markdown",
   "metadata": {},
   "source": [
    "### 03.06 Comparison Operator - \"Equals To\", == and \"Not Equals to\", !=\n",
    "You can also compare two values to see if they are equal and the expression will return True or False.\n",
    "\n",
    "*Example*\n",
    "```python\n",
    "same_word = \"python\" == \"python\" #evaluates to True\n",
    "diff_values = (5-3) != 5 #evaluates to True\n",
    "```\n",
    "\n",
    "**Exercise**\n",
    "    - Declare a new variable \"n\" and assign it the value 453 * 8\n",
    "    - Declare a new variable \"is_even\" and assign it the value n % 2 == 0\n",
    "    - Print out \"is_even\""
   ]
  },
  {
   "cell_type": "code",
   "execution_count": null,
   "metadata": {
    "collapsed": true
   },
   "outputs": [],
   "source": [
    "# enter your code below this line."
   ]
  }
 ],
 "metadata": {
  "kernelspec": {
   "display_name": "Python 2",
   "language": "python",
   "name": "python2"
  },
  "language_info": {
   "codemirror_mode": {
    "name": "ipython",
    "version": 2
   },
   "file_extension": ".py",
   "mimetype": "text/x-python",
   "name": "python",
   "nbconvert_exporter": "python",
   "pygments_lexer": "ipython2",
   "version": "2.7.12"
  }
 },
 "nbformat": 4,
 "nbformat_minor": 1
}
