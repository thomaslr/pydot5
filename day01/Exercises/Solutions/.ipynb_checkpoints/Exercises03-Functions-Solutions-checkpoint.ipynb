{
 "cells": [
  {
   "cell_type": "markdown",
   "metadata": {},
   "source": [
    "## Exercise 1"
   ]
  },
  {
   "cell_type": "markdown",
   "metadata": {},
   "source": [
    "Write a shutting down program:\n",
    "\n",
    "First, def a function, shut_down, that takes one argument s. Then, if the shut_down function receives an s equal to \"yes\", it should return \"Shutting down\" Alternatively, elif s is equal to \"no\", then the function should return \"Shutdown aborted\". Finally, if shut_down gets anything other than those inputs, the function should return \"Sorry\"."
   ]
  },
  {
   "cell_type": "code",
   "execution_count": 1,
   "metadata": {},
   "outputs": [
    {
     "data": {
      "text/plain": [
       "'Shutdown aborted'"
      ]
     },
     "execution_count": 1,
     "metadata": {},
     "output_type": "execute_result"
    }
   ],
   "source": [
    "## Solution \n",
    "def shut_down(s):\n",
    "     if s==\"yes\":\n",
    "        return \"Shutting down\"\n",
    "     elif s==\"no\":\n",
    "        return \"Shutdown aborted\"\n",
    "     else:\n",
    "        return \"Sorry\"\n",
    "\n",
    "s=\"no\"\n",
    "shut_down(s)"
   ]
  },
  {
   "cell_type": "markdown",
   "metadata": {},
   "source": [
    "## Exercise 2"
   ]
  },
  {
   "cell_type": "markdown",
   "metadata": {},
   "source": [
    "Import the math module in whatever way you prefer. Call its sqrt function on the number 13689 and print that value to the console. Using a function is not required. "
   ]
  },
  {
   "cell_type": "markdown",
   "metadata": {},
   "source": [
    "## Exercise 3"
   ]
  },
  {
   "cell_type": "markdown",
   "metadata": {},
   "source": [
    "First, def a function called distance_from_zero, with one argument (choose any argument name you like). If the type of the argument is either int or float, the function should return the absolute value of the function input. Otherwise, the function should return \"Nope\". Check if it works calling the function with -5.6 and \"what?\"."
   ]
  },
  {
   "cell_type": "markdown",
   "metadata": {},
   "source": [
    "## Exercise 4"
   ]
  },
  {
   "cell_type": "markdown",
   "metadata": {},
   "source": [
    "Follow the stpes:\n",
    "\n",
    "1. First, def a function called cube that takes an argument called number.\n",
    "2. Make that function return the cube of that number (i.e. that number multiplied by itself and multiplied by itself once again).\n",
    "3. Define a second function called by_three that takes an argument called number. if that number is divisible by 3,by_threeshould call cube(number) and return its result. Otherwise, by_three should return False. -Check if it works."
   ]
  },
  {
   "cell_type": "markdown",
   "metadata": {},
   "source": [
    "## Solutions"
   ]
  },
  {
   "cell_type": "code",
   "execution_count": null,
   "metadata": {
    "collapsed": true
   },
   "outputs": [],
   "source": [
    "#Exercise 2\n",
    "from math import sqrt\n",
    "print sqrt(13689)\n"
   ]
  },
  {
   "cell_type": "code",
   "execution_count": 6,
   "metadata": {},
   "outputs": [
    {
     "data": {
      "text/plain": [
       "5.6"
      ]
     },
     "execution_count": 6,
     "metadata": {},
     "output_type": "execute_result"
    }
   ],
   "source": [
    "#Exercise 3\n",
    "def distance_from_zero(num):\n",
    "    if type(num)== int or type(num)== float:\n",
    "        return abs(num)\n",
    "    else:\n",
    "        return \"Nope\"\n",
    "    \n",
    "distance_from_zero(-5.6)\n",
    "#distance_from_zero(\"what?\") # returns 'Nope'\n"
   ]
  },
  {
   "cell_type": "code",
   "execution_count": 7,
   "metadata": {},
   "outputs": [
    {
     "data": {
      "text/plain": [
       "729"
      ]
     },
     "execution_count": 7,
     "metadata": {},
     "output_type": "execute_result"
    }
   ],
   "source": [
    "#Exercise 4\n",
    "def cube(number):\n",
    "    return number*number*number\n",
    "\n",
    "def by_three(number):\n",
    "    if number %3 ==0:\n",
    "        return cube(number)\n",
    "    else:\n",
    "        return False\n",
    "\n",
    "by_three(9)\n"
   ]
  },
  {
   "cell_type": "code",
   "execution_count": null,
   "metadata": {
    "collapsed": true
   },
   "outputs": [],
   "source": []
  }
 ],
 "metadata": {
  "kernelspec": {
   "display_name": "Python 2",
   "language": "python",
   "name": "python2"
  },
  "language_info": {
   "codemirror_mode": {
    "name": "ipython",
    "version": 2
   },
   "file_extension": ".py",
   "mimetype": "text/x-python",
   "name": "python",
   "nbconvert_exporter": "python",
   "pygments_lexer": "ipython2",
   "version": "2.7.9"
  }
 },
 "nbformat": 4,
 "nbformat_minor": 2
}
