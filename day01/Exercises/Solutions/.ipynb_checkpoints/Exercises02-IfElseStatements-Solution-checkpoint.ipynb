{
 "cells": [
  {
   "cell_type": "markdown",
   "metadata": {},
   "source": [
    "## Exercise 1"
   ]
  },
  {
   "cell_type": "markdown",
   "metadata": {},
   "source": [
    "Write a program to prompt the user for hours and rate per hour to compute gross pay.Take into account that the factory gives the employee 1.5 times the hourly rate for hours worked above 40 hours.\n",
    "\n",
    "Enter Hours: 45\n",
    "Rate: 10\n",
    "Pay: 475.0"
   ]
  },
  {
   "cell_type": "code",
   "execution_count": null,
   "metadata": {
    "collapsed": true
   },
   "outputs": [],
   "source": [
    "hours=input(\"Enter worked hours: \") #input automatically detects the type that you input, so hours is an integer if you type an integer value. \n",
    "hours=float(hours) #Convert this integer into a float so that the calculations are not rounded\n",
    "rate=10\n",
    "if hours < 40:\n",
    "        pay=hours*rate\n",
    "        print( \"the pay is: \" + str(pay)) #Combining strings only works with things of the same type. Convert the float pay into string. \n",
    "else:\n",
    "        pay = 40 * rate + (hours-40)*1.5*rate\n",
    "        print( \"the pay is: \" + str(pay))\n"
   ]
  },
  {
   "cell_type": "markdown",
   "metadata": {},
   "source": [
    "## Exercise 2"
   ]
  },
  {
   "cell_type": "raw",
   "metadata": {
    "collapsed": true
   },
   "source": [
    "Write a program to prompt for a score between 0.0 and 1.0. If the core is out of range print an error. If the score is between 0.0 and 1.0, print a grade using the following table:\n",
    "\n",
    "Score Grade\n",
    ">= 0.9 A\n",
    ">= 0.8 B\n",
    ">= 0.7 C\n",
    ">= 0.6 D\n",
    "< 0.6 F"
   ]
  },
  {
   "cell_type": "markdown",
   "metadata": {},
   "source": [
    "## Exercise 3"
   ]
  },
  {
   "cell_type": "raw",
   "metadata": {
    "collapsed": true
   },
   "source": [
    "Write a program that ask for a number to the user and clasifies it:\n",
    "\n",
    "number <2 SMALL\n",
    "number <10 MEDIUM\n",
    "number rest LARGE"
   ]
  },
  {
   "cell_type": "markdown",
   "metadata": {},
   "source": [
    "## Solutions"
   ]
  },
  {
   "cell_type": "code",
   "execution_count": 4,
   "metadata": {},
   "outputs": [
    {
     "name": "stdout",
     "output_type": "stream",
     "text": [
      "Enter a score:.9\n",
      "A\n"
     ]
    }
   ],
   "source": [
    "#Exercise 2\n",
    "score=raw_input(\"Enter a score:\") #raw_input makes whatever you enter into a string.\n",
    "score=float(score) #convert to a float number so that you can perform operations on it. \n",
    "if score >=0.9:\n",
    "    print( \"A\")\n",
    "elif score >= 0.8: # Elseif \n",
    "    print( \"B\")\n",
    "elif score >= 0.7:\n",
    "    print( \"C\")\n",
    "elif score >=0.6:\n",
    "    print( \"D\")\n",
    "elif score <= 0.6 :\n",
    "    print( \"F\")\n",
    "else:\n",
    "    print( \"error\")"
   ]
  },
  {
   "cell_type": "code",
   "execution_count": 3,
   "metadata": {},
   "outputs": [
    {
     "name": "stdout",
     "output_type": "stream",
     "text": [
      "Enter a number:3\n",
      "MEDIUM\n"
     ]
    }
   ],
   "source": [
    "#Exercise 3\n",
    "num = raw_input(\"Enter a number:\") #raw_input always returns a string, so you must convert that string to int in the next line. \n",
    "num = int(num)\n",
    "if num < 2:\n",
    "    print (\"SMALL\")\n",
    "elif num < 10:\n",
    "    print (\"MEDIUM\")\n",
    "else:\n",
    "    print (\"LARGE\")\n"
   ]
  },
  {
   "cell_type": "code",
   "execution_count": null,
   "metadata": {
    "collapsed": true
   },
   "outputs": [],
   "source": []
  }
 ],
 "metadata": {
  "kernelspec": {
   "display_name": "Python 2",
   "language": "python",
   "name": "python2"
  },
  "language_info": {
   "codemirror_mode": {
    "name": "ipython",
    "version": 2
   },
   "file_extension": ".py",
   "mimetype": "text/x-python",
   "name": "python",
   "nbconvert_exporter": "python",
   "pygments_lexer": "ipython2",
   "version": "2.7.12"
  }
 },
 "nbformat": 4,
 "nbformat_minor": 2
}
