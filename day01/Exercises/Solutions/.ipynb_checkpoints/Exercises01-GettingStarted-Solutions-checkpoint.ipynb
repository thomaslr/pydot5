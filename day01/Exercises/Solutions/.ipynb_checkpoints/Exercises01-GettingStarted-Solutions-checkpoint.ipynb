{
 "cells": [
  {
   "cell_type": "markdown",
   "metadata": {},
   "source": [
    "Complete these exercises to the best of your knowledge without looking at solutions. The solutions to the first question of each exercise set will always be included right underneath the question for an example to get you started. "
   ]
  },
  {
   "cell_type": "markdown",
   "metadata": {},
   "source": [
    "## Exercise 1"
   ]
  },
  {
   "cell_type": "markdown",
   "metadata": {},
   "source": [
    "Assume that we execute the following assignment statements: width = 17 height = 12.0 For each of the following expressions, write the value of the expression and the type (of the value of the expression).\n",
    "\n",
    "1. width/2\n",
    "2. width/2.0\n",
    "3. height/3\n",
    "4. 1 + 2 * 5 \n",
    "\n",
    "Do this exercise using print statements. "
   ]
  },
  {
   "cell_type": "code",
   "execution_count": 7,
   "metadata": {},
   "outputs": [
    {
     "name": "stdout",
     "output_type": "stream",
     "text": [
      "17\n",
      "Width is <type 'int'>\n"
     ]
    }
   ],
   "source": [
    "# Solution \n",
    "width = 17\n",
    "height = 12.0\n",
    "\n",
    "print(width/2) #integer\n",
    "print(width/2.0) #float\n",
    "print(height/3) #float\n",
    "print(1+ 2*5) #int"
   ]
  },
  {
   "cell_type": "markdown",
   "metadata": {},
   "source": [
    "## Exercise 2"
   ]
  },
  {
   "cell_type": "markdown",
   "metadata": {},
   "source": [
    "You've finished eating at a restaurant, and received this bill:\n",
    "\n",
    "Cost of meal: $44.50\n",
    "Restaurant tax: 6.75%\n",
    "Tip: 15%\n",
    "You'll apply the tip to the overall cost of the meal (including tax).\n",
    "Steps to follow:\n",
    "\n",
    "1. First, let's declare the variable meal and assign it the value 44.50.\n",
    "\n",
    "2. Now let's create a variable for the tax percentage: The tax on your receipt is 6.75%. You'll have to divide 6.75 by 100 in order to get the decimal form of the percentage. Create the variable tax and set it equal to the decimal value of 6.75%.\n",
    "\n",
    "3. You received good service, so you'd like to leave a 15% tip on top of the cost of the meal, including tax. Before we compute the tip for your bill, let's set a variable for the tip. Again, we need to get the decimal form of the tip, so we divide 15.0 by 100. Set the variable tip to decimal value of 15% .\n",
    "\n",
    "4. Reassign in a Single Line We've got the three variables we need to perform our calculation, and we know some arithmetic operators that can help us out. (We saw in 3.3 Variables that we can reassign variables. For example, we could say spam = 7, then later change our minds and say spam = 3.) Reassign meal to the value of itself + itself * tax.\n",
    "\n",
    "5. We're only calculating the cost of meal and tax here. We'll get to the tip soon. Let's introduce on new variable, total, equal to the new meal + meal * tip.\n",
    "\n",
    "6. Insert at the end this code `print(\"%.2f\" % total). This code print to the console the value of total with exactly two numbers after the decimal."
   ]
  },
  {
   "cell_type": "markdown",
   "metadata": {},
   "source": [
    "## Exercise 3"
   ]
  },
  {
   "cell_type": "markdown",
   "metadata": {},
   "source": [
    "Write a program which prompts the user for a Celsius temperature,convert the temperature to Fahrenheit and print out the converted temperature. Note:` ºC *9/5 +32 = ºF"
   ]
  },
  {
   "cell_type": "markdown",
   "metadata": {},
   "source": [
    "## Solutions"
   ]
  },
  {
   "cell_type": "code",
   "execution_count": null,
   "metadata": {
    "collapsed": true
   },
   "outputs": [],
   "source": [
    "#Solution Exercise 2\n",
    "meal = 44.50\n",
    "tax = 6.75/100\n",
    "tip = 15.0/100\n",
    "meal = meal + meal * tax\n",
    "total= meal +meal*tip\n",
    "print(\"%.2f\" % total)"
   ]
  },
  {
   "cell_type": "code",
   "execution_count": 1,
   "metadata": {},
   "outputs": [
    {
     "name": "stdout",
     "output_type": "stream",
     "text": [
      "Enter the temperature in Celsius:34\n",
      "The temperature in farenheit is:66.0\n"
     ]
    }
   ],
   "source": [
    "#Solution Exercise 3\n",
    "tempC= raw_input('Enter the temperature in Celsius:')\n",
    "tempC= float(tempC)\n",
    "#We change from string to float, so we can use operators.\n",
    "tempF= tempC*(9/5) +32\n",
    "print(\"The temperature in farenheit is: \" + str(tempF) )\n"
   ]
  },
  {
   "cell_type": "code",
   "execution_count": null,
   "metadata": {
    "collapsed": true
   },
   "outputs": [],
   "source": []
  }
 ],
 "metadata": {
  "kernelspec": {
   "display_name": "Python 2",
   "language": "python",
   "name": "python2"
  },
  "language_info": {
   "codemirror_mode": {
    "name": "ipython",
    "version": 2
   },
   "file_extension": ".py",
   "mimetype": "text/x-python",
   "name": "python",
   "nbconvert_exporter": "python",
   "pygments_lexer": "ipython2",
   "version": "2.7.12"
  }
 },
 "nbformat": 4,
 "nbformat_minor": 2
}
