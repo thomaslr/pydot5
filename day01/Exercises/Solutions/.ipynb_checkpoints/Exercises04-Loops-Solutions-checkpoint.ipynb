{
 "cells": [
  {
   "cell_type": "markdown",
   "metadata": {},
   "source": [
    "## Exercise 1 "
   ]
  },
  {
   "cell_type": "markdown",
   "metadata": {},
   "source": [
    "Feel free to look at the answer first. This exercise contains some new concepts. \n",
    "\n",
    "Write a program that generates a random number (0-10) and ask you to guess it. You have three asserts.\n",
    "\n",
    "Define a random_number with randit between 0-10.\n",
    "Initialize guesses_left to 3.\n",
    "Use a while loop to let the user keep guessing so long as guesses_left is greater than zero.\n",
    "Ask the user for their guess, just like the second example above.\n",
    "If they guess correctly, print 'You win!' and break. Decrement guesses_left by one.\n",
    "Use an else: case after your while loop to print:You lose."
   ]
  },
  {
   "cell_type": "code",
   "execution_count": 1,
   "metadata": {},
   "outputs": [
    {
     "name": "stdout",
     "output_type": "stream",
     "text": [
      "Enter your guess:4\n",
      "Enter your guess:5\n",
      "Enter your guess:1\n",
      "You lose\n"
     ]
    }
   ],
   "source": [
    "#Solution\n",
    "from random import randint\n",
    "\n",
    "# Generates a number from 1 through 10 inclusive\n",
    "random_number = randint(1, 10)\n",
    "\n",
    "guesses_left = 3\n",
    "# Start your game!\n",
    "while guesses_left>0:\n",
    "    guess=int(raw_input(\"Enter your guess:\"))\n",
    "    if guess==random_number:\n",
    "        print \"You win\"\n",
    "        break\n",
    "    guesses_left-=1\n",
    "else:\n",
    "    print \"You lose\""
   ]
  },
  {
   "cell_type": "markdown",
   "metadata": {},
   "source": [
    "## Exercise 2"
   ]
  },
  {
   "cell_type": "markdown",
   "metadata": {},
   "source": [
    "Create a for loop that prompts the user for a hobby 3 times, then appends each one to hobbies. (A list)"
   ]
  },
  {
   "cell_type": "markdown",
   "metadata": {},
   "source": [
    "## Exercise 3"
   ]
  },
  {
   "cell_type": "raw",
   "metadata": {},
   "source": [
    "Remember: The , character after our print statement means that our next print statement keeps printing on the same line. Let's filter out the letter 'A' from our string.\n",
    "\n",
    "phrase = \"A bird in the hand...\"\n",
    "Do the following for each character in the phrase.\n",
    "- If char is an 'A' or char is an 'a', print 'X', instead of the char. Make sure to include the trailing comma.\n",
    "- Otherwise (else:), please print char, with the trailing comma."
   ]
  },
  {
   "cell_type": "markdown",
   "metadata": {},
   "source": [
    "## Exercise 4"
   ]
  },
  {
   "cell_type": "raw",
   "metadata": {},
   "source": [
    "Let's try a factorial problem. To calculate the factorial of a non-negative integer x, just multiply all the integers from 1 through x. For example: 3! is equal to 123"
   ]
  },
  {
   "cell_type": "markdown",
   "metadata": {},
   "source": [
    "## Solutions"
   ]
  },
  {
   "cell_type": "code",
   "execution_count": 1,
   "metadata": {},
   "outputs": [
    {
     "name": "stdout",
     "output_type": "stream",
     "text": [
      "Enter hobby:swimming\n",
      "Enter hobby:cooking\n",
      "Enter hobby:curling\n",
      "['swimming', 'cooking', 'curling']\n"
     ]
    }
   ],
   "source": [
    "#Exercise 2\n",
    "hobbies = []\n",
    "for i in range(3):\n",
    "    hob=raw_input(\"Enter hobby:\")\n",
    "    hobbies.append(hob)\n",
    "\n",
    "\n",
    "print (hobbies)\n"
   ]
  },
  {
   "cell_type": "code",
   "execution_count": 3,
   "metadata": {},
   "outputs": [
    {
     "name": "stdout",
     "output_type": "stream",
     "text": [
      "X   b i r d   i n   t h e   h X n d . . .\n"
     ]
    }
   ],
   "source": [
    "#Exercise 3\n",
    "phrase = \"A bird in the hand...\"\n",
    "for char in phrase: #A string is technically a list of individual characters and can be treated as such. \n",
    "    if char == \"A\" or char == \"a\":\n",
    "        print \"X\",\n",
    "    else:\n",
    "        print(char),"
   ]
  },
  {
   "cell_type": "code",
   "execution_count": 4,
   "metadata": {},
   "outputs": [
    {
     "data": {
      "text/plain": [
       "479001600"
      ]
     },
     "execution_count": 4,
     "metadata": {},
     "output_type": "execute_result"
    }
   ],
   "source": [
    "#Exercise 4\n",
    "def factorial(x):\n",
    "    count=1\n",
    "    for i in range(x):\n",
    "        count=count*(i+1)\n",
    "    return count\n",
    "\n",
    "factorial (12)"
   ]
  },
  {
   "cell_type": "code",
   "execution_count": null,
   "metadata": {
    "collapsed": true
   },
   "outputs": [],
   "source": []
  }
 ],
 "metadata": {
  "kernelspec": {
   "display_name": "Python 2",
   "language": "python",
   "name": "python2"
  },
  "language_info": {
   "codemirror_mode": {
    "name": "ipython",
    "version": 2
   },
   "file_extension": ".py",
   "mimetype": "text/x-python",
   "name": "python",
   "nbconvert_exporter": "python",
   "pygments_lexer": "ipython2",
   "version": "2.7.9"
  }
 },
 "nbformat": 4,
 "nbformat_minor": 2
}
